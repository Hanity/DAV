{
  "nbformat": 4,
  "nbformat_minor": 0,
  "metadata": {
    "colab": {
      "name": "DAV Inferential Statistics.ipynb",
      "provenance": []
    },
    "kernelspec": {
      "display_name": "Python 3",
      "name": "python3"
    },
    "language_info": {
      "name": "python"
    }
  },
  "cells": [
    {
      "cell_type": "code",
      "metadata": {
        "id": "bxhcmhEult6H"
      },
      "source": [
        "import pandas as pd\n",
        "\n",
        "\n",
        "dataset = pd.read_excel('final.xlsx')"
      ],
      "execution_count": null,
      "outputs": []
    },
    {
      "cell_type": "code",
      "metadata": {
        "id": "kKSWlJWwAlko"
      },
      "source": [
        ""
      ],
      "execution_count": null,
      "outputs": []
    },
    {
      "cell_type": "markdown",
      "metadata": {
        "id": "TZCKcYMAAl4_"
      },
      "source": [
        "Descriptive Analysis"
      ]
    },
    {
      "cell_type": "code",
      "metadata": {
        "colab": {
          "base_uri": "https://localhost:8080/",
          "height": 301
        },
        "id": "jWBJ-OuGQoQc",
        "outputId": "577baec0-4953-4ec6-ede8-6793b373b41a"
      },
      "source": [
        "dataset.describe()"
      ],
      "execution_count": null,
      "outputs": [
        {
          "output_type": "execute_result",
          "data": {
            "text/html": [
              "<div>\n",
              "<style scoped>\n",
              "    .dataframe tbody tr th:only-of-type {\n",
              "        vertical-align: middle;\n",
              "    }\n",
              "\n",
              "    .dataframe tbody tr th {\n",
              "        vertical-align: top;\n",
              "    }\n",
              "\n",
              "    .dataframe thead th {\n",
              "        text-align: right;\n",
              "    }\n",
              "</style>\n",
              "<table border=\"1\" class=\"dataframe\">\n",
              "  <thead>\n",
              "    <tr style=\"text-align: right;\">\n",
              "      <th></th>\n",
              "      <th>Temperature</th>\n",
              "      <th>RH</th>\n",
              "      <th>Pressure</th>\n",
              "      <th>Wind Speed</th>\n",
              "      <th>Wind Direction</th>\n",
              "      <th>Rainfall</th>\n",
              "    </tr>\n",
              "  </thead>\n",
              "  <tbody>\n",
              "    <tr>\n",
              "      <th>count</th>\n",
              "      <td>43822.000000</td>\n",
              "      <td>43822.000000</td>\n",
              "      <td>43822.000000</td>\n",
              "      <td>43822.000000</td>\n",
              "      <td>43822.000000</td>\n",
              "      <td>43822.000000</td>\n",
              "    </tr>\n",
              "    <tr>\n",
              "      <th>mean</th>\n",
              "      <td>61.195769</td>\n",
              "      <td>74.000434</td>\n",
              "      <td>10079.035941</td>\n",
              "      <td>9.568915</td>\n",
              "      <td>241.540003</td>\n",
              "      <td>5776.382662</td>\n",
              "    </tr>\n",
              "    <tr>\n",
              "      <th>std</th>\n",
              "      <td>50.572409</td>\n",
              "      <td>21.260745</td>\n",
              "      <td>1548.156528</td>\n",
              "      <td>10.184032</td>\n",
              "      <td>93.700305</td>\n",
              "      <td>1049.528727</td>\n",
              "    </tr>\n",
              "    <tr>\n",
              "      <th>min</th>\n",
              "      <td>-63.000000</td>\n",
              "      <td>0.000000</td>\n",
              "      <td>0.000000</td>\n",
              "      <td>0.000000</td>\n",
              "      <td>0.000000</td>\n",
              "      <td>0.000000</td>\n",
              "    </tr>\n",
              "    <tr>\n",
              "      <th>25%</th>\n",
              "      <td>30.000000</td>\n",
              "      <td>60.000000</td>\n",
              "      <td>9897.000000</td>\n",
              "      <td>0.000000</td>\n",
              "      <td>225.000000</td>\n",
              "      <td>5647.000000</td>\n",
              "    </tr>\n",
              "    <tr>\n",
              "      <th>50%</th>\n",
              "      <td>57.000000</td>\n",
              "      <td>72.000000</td>\n",
              "      <td>9958.000000</td>\n",
              "      <td>8.000000</td>\n",
              "      <td>270.000000</td>\n",
              "      <td>5778.000000</td>\n",
              "    </tr>\n",
              "    <tr>\n",
              "      <th>75%</th>\n",
              "      <td>87.000000</td>\n",
              "      <td>86.000000</td>\n",
              "      <td>10039.750000</td>\n",
              "      <td>15.000000</td>\n",
              "      <td>292.000000</td>\n",
              "      <td>5808.000000</td>\n",
              "    </tr>\n",
              "    <tr>\n",
              "      <th>max</th>\n",
              "      <td>262.000000</td>\n",
              "      <td>198.000000</td>\n",
              "      <td>19904.000000</td>\n",
              "      <td>112.000000</td>\n",
              "      <td>720.000000</td>\n",
              "      <td>11914.000000</td>\n",
              "    </tr>\n",
              "  </tbody>\n",
              "</table>\n",
              "</div>"
            ],
            "text/plain": [
              "        Temperature            RH  ...  Wind Direction      Rainfall\n",
              "count  43822.000000  43822.000000  ...    43822.000000  43822.000000\n",
              "mean      61.195769     74.000434  ...      241.540003   5776.382662\n",
              "std       50.572409     21.260745  ...       93.700305   1049.528727\n",
              "min      -63.000000      0.000000  ...        0.000000      0.000000\n",
              "25%       30.000000     60.000000  ...      225.000000   5647.000000\n",
              "50%       57.000000     72.000000  ...      270.000000   5778.000000\n",
              "75%       87.000000     86.000000  ...      292.000000   5808.000000\n",
              "max      262.000000    198.000000  ...      720.000000  11914.000000\n",
              "\n",
              "[8 rows x 6 columns]"
            ]
          },
          "metadata": {
            "tags": []
          },
          "execution_count": 6
        }
      ]
    },
    {
      "cell_type": "markdown",
      "metadata": {
        "id": "5GUH_t5cog0d"
      },
      "source": [
        "T-Test"
      ]
    },
    {
      "cell_type": "code",
      "metadata": {
        "id": "dOygA5KVQssG"
      },
      "source": [
        ""
      ],
      "execution_count": null,
      "outputs": []
    },
    {
      "cell_type": "markdown",
      "metadata": {
        "id": "6Gpur6HyAtIk"
      },
      "source": [
        "Inferential Statistics"
      ]
    },
    {
      "cell_type": "markdown",
      "metadata": {
        "id": "MoEAthzISqlH"
      },
      "source": [
        "If p-value is less than or equal to α (single tail) test; \n",
        "α/2(two-tailed test), then reject the null hypothesis in favour of the alternative hypothesis\n",
        "If p-value is greater than α (single tail test); α/2(two-tailed test),  then accept the null hypothesis and reject the alternative hypothesis\n",
        "\n",
        "\n",
        "There is one continuous dependent variable and one categorical independent variable (with 2 levels); \n",
        "The two samples are independent; \n",
        "The two samples follow normal distributions, and can be done with Normality check. \n",
        "\n",
        "When the assumptions are not met, other methods are possible based on the two samples: \n",
        "Two dependent samples and follow Normal distribution, suggest Paired T-test; \n",
        "Two independent samples and does not follow Normal distribution, suggest WMW test; \n",
        "Two dependent samples and does not follow Normal distribution, suggest Signed Rank test; \n",
        "In this demo example, two samples (control and treatment) are independent, and pass the Normality check. So we continue with two sample t-test. Note that the test is two-sided (sides=2), the significance level is 0.05, and the test is to compare the difference between two means (mu1 - mu2) against 0 (h0=0). "
      ]
    },
    {
      "cell_type": "code",
      "metadata": {
        "colab": {
          "base_uri": "https://localhost:8080/"
        },
        "id": "COXh4Pw9uoxD",
        "outputId": "bd8c9d19-52c3-4602-b794-b4fdc43e9a39"
      },
      "source": [
        "import pandas as pd\n",
        "from scipy import stats\n",
        "\n",
        "Temp = smart['Temperature']\n",
        "RH = smart['RH']\n",
        "\n",
        "t2, p = stats.ttest_ind(Temp, RH) \n",
        "\n",
        "#two-tail 2-sample t-test\n",
        "alpha_half = 0.005 #alpha is 0.01 or level of confidence is 99%\n",
        "\n",
        "print(\"p value = {:g}\".format(p))\n",
        "print(\"t value = {:g}\". format(t2))\n",
        "\n",
        "if p < alpha_half:  # null hypothesis: x comes from a normal distribution\n",
        "    print(\"The null hypothesis can be rejected\")\n",
        "else:\n",
        "    print(\"The null hypothesis is accepted\")"
      ],
      "execution_count": null,
      "outputs": [
        {
          "output_type": "stream",
          "text": [
            "p value = 0\n",
            "t value = -48.8608\n",
            "The null hypothesis can be rejected\n"
          ],
          "name": "stdout"
        }
      ]
    },
    {
      "cell_type": "code",
      "metadata": {
        "colab": {
          "base_uri": "https://localhost:8080/"
        },
        "id": "ALEjig_evJSa",
        "outputId": "4b3467d6-1c18-4f62-95a0-b72e587d8436"
      },
      "source": [
        "import pandas as pd\n",
        "from scipy import stats\n",
        "\n",
        "Temp = smart['Temperature']\n",
        "Pressure = smart['Pressure']\n",
        "\n",
        "t2, p = stats.ttest_ind(Temp, RH) \n",
        "\n",
        "#two-tail 2-sample t-test\n",
        "alpha_half = 0.005 #alpha is 0.01 or level of confidence is 99%\n",
        "\n",
        "print(\"p value = {:g}\".format(p))\n",
        "print(\"t value = {:g}\". format(t2))\n",
        "\n",
        "if p < alpha_half:  # null hypothesis: x comes from a normal distribution\n",
        "    print(\"The null hypothesis can be rejected\")\n",
        "else:\n",
        "    print(\"The null hypothesis is accepted\")"
      ],
      "execution_count": null,
      "outputs": [
        {
          "output_type": "stream",
          "text": [
            "p value = 0\n",
            "t value = -48.8608\n",
            "The null hypothesis can be rejected\n"
          ],
          "name": "stdout"
        }
      ]
    },
    {
      "cell_type": "code",
      "metadata": {
        "colab": {
          "base_uri": "https://localhost:8080/"
        },
        "id": "Zf7vTPMbA2l0",
        "outputId": "1a937453-ca5d-4e0c-8c81-f424f12d194f"
      },
      "source": [
        "import pandas as pd\n",
        "from scipy import stats\n",
        "\n",
        "Temp = smart['Temperature']\n",
        "Pressure = smart['Rainfall']\n",
        "\n",
        "t2, p = stats.ttest_ind(Temp, RH) \n",
        "\n",
        "#two-tail 2-sample t-test\n",
        "alpha_half = 0.005 #alpha is 0.01 or level of confidence is 99%\n",
        "\n",
        "print(\"p value = {:g}\".format(p))\n",
        "print(\"t value = {:g}\". format(t2))\n",
        "\n",
        "if p < alpha_half:  # null hypothesis: x comes from a normal distribution\n",
        "    print(\"The null hypothesis can be rejected\")\n",
        "else:\n",
        "    print(\"The null hypothesis is accepted\")"
      ],
      "execution_count": null,
      "outputs": [
        {
          "output_type": "stream",
          "text": [
            "p value = 0\n",
            "t value = -48.8608\n",
            "The null hypothesis can be rejected\n"
          ],
          "name": "stdout"
        }
      ]
    },
    {
      "cell_type": "code",
      "metadata": {
        "colab": {
          "base_uri": "https://localhost:8080/"
        },
        "id": "efBOkDfPA6A3",
        "outputId": "bc5b8404-0ef6-46c7-e83d-189baab86f8a"
      },
      "source": [
        "import pandas as pd\n",
        "from scipy import stats\n",
        "\n",
        "Temp = smart['RH']\n",
        "Pressure = smart['Pressure']\n",
        "\n",
        "t2, p = stats.ttest_ind(Temp, RH) \n",
        "\n",
        "#two-tail 2-sample t-test\n",
        "alpha_half = 0.005 #alpha is 0.01 or level of confidence is 99%\n",
        "\n",
        "print(\"p value = {:g}\".format(p))\n",
        "print(\"t value = {:g}\". format(t2))\n",
        "\n",
        "if p < alpha_half:  # null hypothesis: x comes from a normal distribution\n",
        "    print(\"The null hypothesis can be rejected\")\n",
        "else:\n",
        "    print(\"The null hypothesis is accepted\")"
      ],
      "execution_count": null,
      "outputs": [
        {
          "output_type": "stream",
          "text": [
            "p value = 1\n",
            "t value = 0\n",
            "The null hypothesis is accepted\n"
          ],
          "name": "stdout"
        }
      ]
    },
    {
      "cell_type": "code",
      "metadata": {
        "colab": {
          "base_uri": "https://localhost:8080/"
        },
        "id": "RgMfdDvrvQPB",
        "outputId": "5309d350-5c3c-445c-983d-cd18fc09df2b"
      },
      "source": [
        "import pandas as pd\n",
        "from scipy import stats\n",
        "\n",
        "RH= smart['RH']\n",
        "Pressure = smart['Pressure']\n",
        "\n",
        "t2, p = stats.ttest_ind(RH, Pressure) \n",
        "\n",
        "#two-tail 2-sample t-test\n",
        "alpha_half = 0.005 #alpha is 0.01 or level of confidence is 99%\n",
        "\n",
        "print(\"p value = {:g}\".format(p))\n",
        "print(\"t value = {:g}\". format(t2))\n",
        "\n",
        "if p < alpha_half:  # null hypothesis: x comes from a normal distribution\n",
        "    print(\"The null hypothesis can be rejected\")\n",
        "else:\n",
        "    print(\"The null hypothesis is accepted\")"
      ],
      "execution_count": null,
      "outputs": [
        {
          "output_type": "stream",
          "text": [
            "p value = 0\n",
            "t value = -1352.72\n",
            "The null hypothesis can be rejected\n"
          ],
          "name": "stdout"
        }
      ]
    },
    {
      "cell_type": "code",
      "metadata": {
        "colab": {
          "base_uri": "https://localhost:8080/"
        },
        "id": "ynEJbaCxvkGA",
        "outputId": "5ce1071a-d31f-4bc6-9566-78ce17c3fe25"
      },
      "source": [
        "import pandas as pd\n",
        "from scipy import stats\n",
        "\n",
        "Wind_Direction = smart['Wind Direction']\n",
        "Wind_Speed= smart['Wind Speed']\n",
        "\n",
        "t2, p = stats.ttest_ind(Wind_Direction,Wind_Speed) \n",
        "\n",
        "#two-tail 2-sample t-test\n",
        "alpha_half = 0.005 #alpha is 0.01 or level of confidence is 99%\n",
        "\n",
        "print(\"p value = {:g}\".format(p))\n",
        "print(\"t value = {:g}\". format(t2))\n",
        "\n",
        "if p < alpha_half:  # null hypothesis: x comes from a normal distribution\n",
        "    print(\"The null hypothesis can be rejected\")\n",
        "else:\n",
        "    print(\"The null hypothesis is accepted\")"
      ],
      "execution_count": null,
      "outputs": [
        {
          "output_type": "stream",
          "text": [
            "p value = 0\n",
            "t value = 515.215\n",
            "The null hypothesis can be rejected\n"
          ],
          "name": "stdout"
        }
      ]
    },
    {
      "cell_type": "markdown",
      "metadata": {
        "id": "Ehvchj0IoiKB"
      },
      "source": [
        "Correlation"
      ]
    },
    {
      "cell_type": "code",
      "metadata": {
        "colab": {
          "base_uri": "https://localhost:8080/",
          "height": 1000
        },
        "id": "IcjTkyKYl4h0",
        "outputId": "a66cf50a-78e5-4241-f593-da5e1e158b62"
      },
      "source": [
        "#Seaborn for correlation heatmaps without mask\n",
        "#adapted from https://seaborn.pydata.org/examples/many_pairwise_correlations.html\n",
        "import numpy as np\n",
        "import pandas as pd\n",
        "import seaborn as sns\n",
        "import matplotlib.pyplot as plt\n",
        " \n",
        "   \n",
        "df = pd.DataFrame(dataset, columns= [ 'Temperature', 'RH', 'Pressure', 'Rainfall', 'Wind Speed', 'Wind Direction'])\n",
        "print (df)\n",
        " \n",
        " #create a correlation matrix for all the column sets except the target variable\n",
        "correlation = df.corr()\n",
        "print(\"\\n\")\n",
        "print(\"Pearson Standard Correlation Coefficient Matrix\")\n",
        "print(correlation)\n",
        "print(\"\\n\")\n",
        " \n",
        " \n",
        "#Set up matplotlib figure\n",
        "f, ax = plt.subplots(figsize=(11, 9))\n",
        " \n",
        "#Set up a seaborn heatmap\n",
        "#seaborne aesthetics https://seaborn.pydata.org/tutorial/aesthetics.html \n",
        "sns.set_style(\"white\")\n",
        " \n",
        "# Generate a custom diverging colormap\n",
        "cmap = sns.diverging_palette(230, 20, as_cmap=True)\n",
        " \n",
        "# Draw the heatmap with the mask and correct aspect ratio\n",
        "sns.heatmap(correlation, cmap=cmap, vmax=.3, center=0,\n",
        "            square=True, linewidths=.5, cbar_kws={\"shrink\": .5})\n"
      ],
      "execution_count": null,
      "outputs": [
        {
          "output_type": "stream",
          "text": [
            "       Temperature  RH  Pressure  Rainfall  Wind Speed  Wind Direction\n",
            "0              262  60      9987      5367           9             292\n",
            "1              262  60      9988      5367           7             315\n",
            "2              262  60      9988      5367          23             270\n",
            "3              262  60      9987      5367          16             315\n",
            "4              261  60      9986      5367           0             292\n",
            "...            ...  ..       ...       ...         ...             ...\n",
            "43817          -62  57      9955      5962          20             270\n",
            "43818          -63  57      9955      5962          29             315\n",
            "43819          -63  57      9955      5962          18             270\n",
            "43820          -63  57      9947      5962          10             270\n",
            "43821          -63  57      9943      5962          16             270\n",
            "\n",
            "[43822 rows x 6 columns]\n",
            "\n",
            "\n",
            "Pearson Standard Correlation Coefficient Matrix\n",
            "                Temperature        RH  ...  Wind Speed  Wind Direction\n",
            "Temperature        1.000000  0.076723  ...    0.010604       -0.012928\n",
            "RH                 0.076723  1.000000  ...    0.005146        0.118280\n",
            "Pressure          -0.060946  0.609770  ...    0.159538        0.339993\n",
            "Rainfall          -0.130917  0.558221  ...    0.164143        0.366379\n",
            "Wind Speed         0.010604  0.005146  ...    1.000000       -0.060108\n",
            "Wind Direction    -0.012928  0.118280  ...   -0.060108        1.000000\n",
            "\n",
            "[6 rows x 6 columns]\n",
            "\n",
            "\n"
          ],
          "name": "stdout"
        },
        {
          "output_type": "execute_result",
          "data": {
            "text/plain": [
              "<matplotlib.axes._subplots.AxesSubplot at 0x7fa79ef87ed0>"
            ]
          },
          "metadata": {
            "tags": []
          },
          "execution_count": 14
        },
        {
          "output_type": "display_data",
          "data": {
            "image/png": "[encoded data removed]",
            "text/plain": [
              "<Figure size 792x648 with 2 Axes>"
            ]
          },
          "metadata": {
            "tags": []
          }
        }
      ]
    },
    {
      "cell_type": "code",
      "metadata": {
        "colab": {
          "base_uri": "https://localhost:8080/",
          "height": 810
        },
        "id": "tiJbNnfcopyE",
        "outputId": "1b075fa4-9150-4fde-8d96-b7594617babc"
      },
      "source": [
        "\n",
        " \n",
        "#create a correlation matrix for all the column sets except the target variable\n",
        "correlation = df.corr()\n",
        "print(\"\\n\")\n",
        "print(\"Pearson Standard Correlation Coefficient Matrix\")\n",
        "print(correlation)\n",
        "print(\"\\n\")\n",
        " \n",
        "# Generate a mask for the upper triangle\n",
        "mask = np.triu(np.ones_like(correlation, dtype=bool))\n",
        " \n",
        " \n",
        "#Set up matplotlib figure\n",
        "f, ax = plt.subplots(figsize=(11, 9))\n",
        " \n",
        "#Set up a seaborn heatmap\n",
        "#seaborne aesthetics https://seaborn.pydata.org/tutorial/aesthetics.html \n",
        "sns.set_style(\"white\")\n",
        " \n",
        "# Generate a custom diverging colormap\n",
        "cmap = sns.diverging_palette(230, 20, as_cmap=True)\n",
        " \n",
        "# Draw the heatmap with the mask and correct aspect ratio\n",
        "sns.heatmap(correlation, mask = mask, cmap=cmap, vmax=.3, center=0,\n",
        "            square=True, linewidths=.5, cbar_kws={\"shrink\": .5})"
      ],
      "execution_count": null,
      "outputs": [
        {
          "output_type": "stream",
          "text": [
            "\n",
            "\n",
            "Pearson Standard Correlation Coefficient Matrix\n",
            "                Temperature        RH  ...  Wind Speed  Wind Direction\n",
            "Temperature        1.000000  0.076723  ...    0.010604       -0.012928\n",
            "RH                 0.076723  1.000000  ...    0.005146        0.118280\n",
            "Pressure          -0.060946  0.609770  ...    0.159538        0.339993\n",
            "Rainfall          -0.130917  0.558221  ...    0.164143        0.366379\n",
            "Wind Speed         0.010604  0.005146  ...    1.000000       -0.060108\n",
            "Wind Direction    -0.012928  0.118280  ...   -0.060108        1.000000\n",
            "\n",
            "[6 rows x 6 columns]\n",
            "\n",
            "\n"
          ],
          "name": "stdout"
        },
        {
          "output_type": "execute_result",
          "data": {
            "text/plain": [
              "<matplotlib.axes._subplots.AxesSubplot at 0x7fa79d6fe290>"
            ]
          },
          "metadata": {
            "tags": []
          },
          "execution_count": 15
        },
        {
          "output_type": "display_data",
          "data": {
            "image/png": "[encoded data removed]",
            "text/plain": [
              "<Figure size 792x648 with 2 Axes>"
            ]
          },
          "metadata": {
            "tags": []
          }
        }
      ]
    },
    {
      "cell_type": "code",
      "metadata": {
        "colab": {
          "base_uri": "https://localhost:8080/",
          "height": 1000
        },
        "id": "BDrobgHMoWfP",
        "outputId": "77e34b00-7fe0-47cc-f0aa-db2da54b728e"
      },
      "source": [
        "\n",
        "print (df)\n",
        " \n",
        " \n",
        "#create a correlation matrix for all the column sets except the target variable\n",
        "correlation = df.corr()\n",
        "print(\"\\n\")\n",
        "print(\"Pearson Standard Correlation Coefficient Matrix\")\n",
        "print(correlation)\n",
        "print(\"\\n\")\n",
        " \n",
        "# Generate a mask for the upper triangle\n",
        "mask = np.triu(np.ones_like(correlation, dtype=bool))\n",
        " \n",
        "\n",
        "#Set up matplotlib figure\n",
        "f, ax = plt.subplots(figsize=(11, 9))\n",
        " \n",
        "#Set up a seaborn heatmap\n",
        "#seaborne aesthetics https://seaborn.pydata.org/tutorial/aesthetics.html \n",
        "sns.set_style(\"white\")\n",
        " \n",
        "# Generate a custom diverging colormap\n",
        "cmap = sns.diverging_palette(230, 20, as_cmap=True)\n",
        " \n",
        "#Turn on annotations for correlation values\n",
        "#annot = True\n",
        "#annot_kws = {\"size\": 12}\n",
        " \n",
        "# Draw the heatmap with the mask and correct aspect ratio\n",
        "heatmap = sns.heatmap(correlation, mask = mask, cmap=cmap, vmax=.3, center=0,\n",
        "            square=True, linewidths=.5, cbar_kws={\"shrink\": .5},\n",
        "            annot = True, annot_kws = {\"size\": 12})\n",
        " \n",
        "#Add ticks for labels\n",
        "sns.set_style({'xtick.bottom': True}, {'ytick.left': True})\n",
        " \n",
        "#Export heatmap as an image\n",
        "heatmap.get_figure().savefig('heatmap_Sensors.png', bbox_inches='tight')"
      ],
      "execution_count": null,
      "outputs": [
        {
          "output_type": "stream",
          "text": [
            "       Temperature  RH  Pressure  Rainfall  Wind Speed  Wind Direction\n",
            "0              262  60      9987      5367           9             292\n",
            "1              262  60      9988      5367           7             315\n",
            "2              262  60      9988      5367          23             270\n",
            "3              262  60      9987      5367          16             315\n",
            "4              261  60      9986      5367           0             292\n",
            "...            ...  ..       ...       ...         ...             ...\n",
            "43817          -62  57      9955      5962          20             270\n",
            "43818          -63  57      9955      5962          29             315\n",
            "43819          -63  57      9955      5962          18             270\n",
            "43820          -63  57      9947      5962          10             270\n",
            "43821          -63  57      9943      5962          16             270\n",
            "\n",
            "[43822 rows x 6 columns]\n",
            "\n",
            "\n",
            "Pearson Standard Correlation Coefficient Matrix\n",
            "                Temperature        RH  ...  Wind Speed  Wind Direction\n",
            "Temperature        1.000000  0.076723  ...    0.010604       -0.012928\n",
            "RH                 0.076723  1.000000  ...    0.005146        0.118280\n",
            "Pressure          -0.060946  0.609770  ...    0.159538        0.339993\n",
            "Rainfall          -0.130917  0.558221  ...    0.164143        0.366379\n",
            "Wind Speed         0.010604  0.005146  ...    1.000000       -0.060108\n",
            "Wind Direction    -0.012928  0.118280  ...   -0.060108        1.000000\n",
            "\n",
            "[6 rows x 6 columns]\n",
            "\n",
            "\n"
          ],
          "name": "stdout"
        },
        {
          "output_type": "display_data",
          "data": {
            "image/png": "[encoded data removed]",
            "text/plain": [
              "<Figure size 792x648 with 2 Axes>"
            ]
          },
          "metadata": {
            "tags": []
          }
        }
      ]
    },
    {
      "cell_type": "code",
      "metadata": {
        "colab": {
          "base_uri": "https://localhost:8080/"
        },
        "id": "EE8Bi4MTo5v4",
        "outputId": "07bb1170-3810-4c03-a82a-1b12b337d6f7"
      },
      "source": [
        "#Correlation Hypothesis Testing by using pvalues\n",
        "import pandas as pd\n",
        "from scipy import stats\n",
        "df = pd.DataFrame(dataset, columns = ['Temperature','RH'])\n",
        "\n",
        "#Calculate Pearson Correlation r and p value\n",
        "pearsonCoeff_rvalue, p_value = stats.pearsonr(df[\"Temperature\"], df[\"RH\"]) #define the columns to perform calculations on\n",
        "print(\"Pearson Correlation Coefficient r value : \", pearsonCoeff_rvalue.round(decimals=3), \"and a P-value of:\", p_value.round(decimals =3)) # Results \n",
        "print(\"\\n\")\n",
        " \n",
        "#Conduct Correlation Coefficient Hypothesis Testing\n",
        "#Use 2 tail test\n",
        "#Confidence level is 95%, alpha is 0.05 and alpha/2 is 0.025\n",
        "alpha = 0.05\n",
        "alpha_half = 0.025\n",
        " \n",
        "if p_value < alpha_half:  # null hypothesis: x comes from a normal distribution\n",
        "    print(\"Conclusion drawn: The null hypothesis can be rejected\")\n",
        "else:\n",
        "    print(\"Conclusion drawn: The null hypothesis is accepted\")"
      ],
      "execution_count": null,
      "outputs": [
        {
          "output_type": "stream",
          "text": [
            "Pearson Correlation Coefficient r value :  0.077 and a P-value of: 0.0\n",
            "\n",
            "\n",
            "Conclusion drawn: The null hypothesis can be rejected\n"
          ],
          "name": "stdout"
        }
      ]
    },
    {
      "cell_type": "code",
      "metadata": {
        "colab": {
          "base_uri": "https://localhost:8080/"
        },
        "id": "bMKN5eIno1Yh",
        "outputId": "c80ce7b1-a953-43a0-820c-e5b82022ecff"
      },
      "source": [
        "#Correlation Hypothesis Testing by using pvalues\n",
        "import pandas as pd\n",
        "from scipy import stats\n",
        "df = pd.DataFrame(dataset, columns = ['Temperature','Pressure'])\n",
        "\n",
        "#Calculate Pearson Correlation r and p value\n",
        "pearsonCoeff_rvalue, p_value = stats.pearsonr(df[\"Temperature\"], df[\"Pressure\"]) #define the columns to perform calculations on\n",
        "print(\"Pearson Correlation Coefficient r value : \", pearsonCoeff_rvalue.round(decimals=3), \"and a P-value of:\", p_value.round(decimals =3)) # Results \n",
        "print(\"\\n\")\n",
        " \n",
        "#Conduct Correlation Coefficient Hypothesis Testing\n",
        "#Use 2 tail test\n",
        "#Confidence level is 95%, alpha is 0.05 and alpha/2 is 0.025\n",
        "alpha = 0.05\n",
        "alpha_half = 0.025\n",
        " \n",
        "if p_value < alpha_half:  # null hypothesis: x comes from a normal distribution\n",
        "    print(\"Conclusion drawn: The null hypothesis can be rejected\")\n",
        "else:\n",
        "    print(\"Conclusion drawn: The null hypothesis is accepted\")"
      ],
      "execution_count": null,
      "outputs": [
        {
          "output_type": "stream",
          "text": [
            "Pearson Correlation Coefficient r value :  -0.061 and a P-value of: 0.0\n",
            "\n",
            "\n",
            "Conclusion drawn: The null hypothesis can be rejected\n"
          ],
          "name": "stdout"
        }
      ]
    },
    {
      "cell_type": "code",
      "metadata": {
        "colab": {
          "base_uri": "https://localhost:8080/"
        },
        "id": "vnRbhDyBo71J",
        "outputId": "0e6b4ac2-c8fd-48da-9c52-b1b60a14697b"
      },
      "source": [
        "#Correlation Hypothesis Testing by using pvalues\n",
        "import pandas as pd\n",
        "from scipy import stats\n",
        "df = pd.DataFrame(dataset, columns = ['Temperature','Rainfall'])\n",
        "\n",
        "#Calculate Pearson Correlation r and p value\n",
        "pearsonCoeff_rvalue, p_value = stats.pearsonr(df[\"Temperature\"], df[\"Rainfall\"]) #define the columns to perform calculations on\n",
        "print(\"Pearson Correlation Coefficient r value : \", pearsonCoeff_rvalue.round(decimals=3), \"and a P-value of:\", p_value.round(decimals =3)) # Results \n",
        "print(\"\\n\")\n",
        " \n",
        "#Conduct Correlation Coefficient Hypothesis Testing\n",
        "#Use 2 tail test\n",
        "#Confidence level is 95%, alpha is 0.05 and alpha/2 is 0.025\n",
        "alpha = 0.05\n",
        "alpha_half = 0.025\n",
        " \n",
        "if p_value < alpha_half:  # null hypothesis: x comes from a normal distribution\n",
        "    print(\"Conclusion drawn: The null hypothesis can be rejected\")\n",
        "else:\n",
        "    print(\"Conclusion drawn: The null hypothesis is accepted\")"
      ],
      "execution_count": null,
      "outputs": [
        {
          "output_type": "stream",
          "text": [
            "Pearson Correlation Coefficient r value :  -0.131 and a P-value of: 0.0\n",
            "\n",
            "\n",
            "Conclusion drawn: The null hypothesis can be rejected\n"
          ],
          "name": "stdout"
        }
      ]
    },
    {
      "cell_type": "code",
      "metadata": {
        "colab": {
          "base_uri": "https://localhost:8080/"
        },
        "id": "sdLy31RCp7Bv",
        "outputId": "250c2088-7a9d-4133-bc2e-423826c76de2"
      },
      "source": [
        "#Correlation Hypothesis Testing by using pvalues\n",
        "import pandas as pd\n",
        "from scipy import stats\n",
        "df = pd.DataFrame(smart, columns = ['RH','Rainfall'])\n",
        "\n",
        "#Calculate Pearson Correlation r and p value\n",
        "pearsonCoeff_rvalue, p_value = stats.pearsonr(df[\"RH\"], df[\"Rainfall\"]) #define the columns to perform calculations on\n",
        "print(\"Pearson Correlation Coefficient r value : \", pearsonCoeff_rvalue.round(decimals=3), \"and a P-value of:\", p_value.round(decimals =3)) # Results \n",
        "print(\"\\n\")\n",
        " \n",
        "#Conduct Correlation Coefficient Hypothesis Testing\n",
        "#Use 2 tail test\n",
        "#Confidence level is 95%, alpha is 0.05 and alpha/2 is 0.025\n",
        "alpha = 0.05\n",
        "alpha_half = 0.025\n",
        " \n",
        "if p_value < alpha_half:  # null hypothesis: x comes from a normal distribution\n",
        "    print(\"Conclusion drawn: The null hypothesis can be rejected\")\n",
        "else:\n",
        "    print(\"Conclusion drawn: The null hypothesis is accepted\")"
      ],
      "execution_count": null,
      "outputs": [
        {
          "output_type": "stream",
          "text": [
            "Pearson Correlation Coefficient r value :  0.558 and a P-value of: 0.0\n",
            "\n",
            "\n",
            "Conclusion drawn: The null hypothesis can be rejected\n"
          ],
          "name": "stdout"
        }
      ]
    },
    {
      "cell_type": "markdown",
      "metadata": {
        "id": "HbvSjzEEG0am"
      },
      "source": [
        "CHI-Test"
      ]
    },
    {
      "cell_type": "code",
      "metadata": {
        "colab": {
          "base_uri": "https://localhost:8080/"
        },
        "id": "Qik_KHmzqg4g",
        "outputId": "b6d5a18e-6e39-4afd-f673-10ca8387d905"
      },
      "source": [
        "#Crosstab, Contingency Table and Chi Square\n",
        "import pandas as pd\n",
        "import scipy.stats as stats\n",
        " \n",
        "print(dataset.info())\n",
        "print(\"\\n\")\n",
        " \n",
        "print(dataset.describe())\n",
        "print(\"\\n\")\n",
        " \n",
        "print(\"Total number of males and females who survived in the dataset\")\n",
        "groupby_Temperature = dataset.groupby([\"Temperature\", \"Pressure\"]).size()\n",
        "print(groupby_Temperature)\n",
        "print(\"\\n\")\n",
        " \n",
        "crosstab = pd.crosstab(dataset[\"Temperature\"], dataset[\"Pressure\"])\n",
        "print(crosstab)\n",
        "print(\"\\n\")\n",
        " \n",
        "#Conduct the Chi Square Independence Test\n",
        "#Interpretation https://www.pythonfordatascience.org/chi-square-test-of-independence-python/\n",
        "#The information is returned within a tuple where the first value is the  test static, \n",
        "#the second value is the p-value, \n",
        "#and the third number is the degrees of freedom. \n",
        "#An array is also returned which contains the expected cell counts.\n",
        " \n",
        "w, x, y, z = stats.chi2_contingency(crosstab)\n",
        "print(\"The Chi Square value is:\", w)\n",
        "print(\"The pvalue is:\", x)\n",
        "print(\"The value for degree of freedom is :\", y)\n",
        "print(\"Expected cell counts is:\", z)\n",
        "print(\"\\n\")\n",
        " \n",
        " \n",
        "\n",
        " \n",
        " "
      ],
      "execution_count": null,
      "outputs": [
        {
          "output_type": "stream",
          "text": [
            "<class 'pandas.core.frame.DataFrame'>\n",
            "RangeIndex: 43822 entries, 0 to 43821\n",
            "Data columns (total 7 columns):\n",
            " #   Column          Non-Null Count  Dtype \n",
            "---  ------          --------------  ----- \n",
            " 0   Time            43822 non-null  object\n",
            " 1   Temperature     43822 non-null  int64 \n",
            " 2   RH              43822 non-null  int64 \n",
            " 3   Pressure        43822 non-null  int64 \n",
            " 4   Wind Speed      43822 non-null  int64 \n",
            " 5   Wind Direction  43822 non-null  int64 \n",
            " 6   Rainfall        43822 non-null  int64 \n",
            "dtypes: int64(6), object(1)\n",
            "memory usage: 2.3+ MB\n",
            "None\n",
            "\n",
            "\n",
            "        Temperature            RH  ...  Wind Direction      Rainfall\n",
            "count  43822.000000  43822.000000  ...    43822.000000  43822.000000\n",
            "mean      61.195769     74.000434  ...      241.540003   5776.382662\n",
            "std       50.572409     21.260745  ...       93.700305   1049.528727\n",
            "min      -63.000000      0.000000  ...        0.000000      0.000000\n",
            "25%       30.000000     60.000000  ...      225.000000   5647.000000\n",
            "50%       57.000000     72.000000  ...      270.000000   5778.000000\n",
            "75%       87.000000     86.000000  ...      292.000000   5808.000000\n",
            "max      262.000000    198.000000  ...      720.000000  11914.000000\n",
            "\n",
            "[8 rows x 6 columns]\n",
            "\n",
            "\n",
            "Total number of males and females who survived in the dataset\n",
            "Temperature  Pressure\n",
            "-63          9943        1\n",
            "             9947        1\n",
            "             9955        2\n",
            "-62          9879        1\n",
            "             9880        2\n",
            "                        ..\n",
            " 261         9987        5\n",
            "             9988        1\n",
            "             9989        1\n",
            " 262         9987        2\n",
            "             9988        2\n",
            "Length: 4490, dtype: int64\n",
            "\n",
            "\n",
            "Pressure     0      9766   9767   9768   ...  19898  19900  19902  19904\n",
            "Temperature                              ...                            \n",
            "-63              0      0      0      0  ...      0      0      0      0\n",
            "-62              0      0      0      0  ...      0      0      0      0\n",
            "-61             16      0      0      0  ...      0      0      0      0\n",
            "-60              0      0      0      0  ...      0      0      0      0\n",
            "-59              0      0      0      0  ...      0      0      0      0\n",
            "...            ...    ...    ...    ...  ...    ...    ...    ...    ...\n",
            " 258             0      0      0      0  ...      0      0      0      0\n",
            " 259             0      0      0      0  ...      0      0      0      0\n",
            " 260             0      0      0      0  ...      0      0      0      0\n",
            " 261             0      0      0      0  ...      0      0      0      0\n",
            " 262             0      0      0      0  ...      0      0      0      0\n",
            "\n",
            "[322 rows x 532 columns]\n",
            "\n",
            "\n",
            "The Chi Square value is: 1412079.0604833332\n",
            "The pvalue is: 0.0\n",
            "The value for degree of freedom is : 170451\n",
            "Expected cell counts is: [[2.57404956e-02 9.12783533e-05 9.12783533e-05 ... 4.56391767e-04\n",
            "  1.82556707e-04 9.12783533e-05]\n",
            " [8.17260737e-01 2.89808772e-03 2.89808772e-03 ... 1.44904386e-02\n",
            "  5.79617544e-03 2.89808772e-03]\n",
            " [5.40550408e-01 1.91684542e-03 1.91684542e-03 ... 9.58422710e-03\n",
            "  3.83369084e-03 1.91684542e-03]\n",
            " ...\n",
            " [7.07863630e-02 2.51015472e-04 2.51015472e-04 ... 1.25507736e-03\n",
            "  5.02030943e-04 2.51015472e-04]\n",
            " [5.14809913e-02 1.82556707e-04 1.82556707e-04 ... 9.12783533e-04\n",
            "  3.65113413e-04 1.82556707e-04]\n",
            " [2.57404956e-02 9.12783533e-05 9.12783533e-05 ... 4.56391767e-04\n",
            "  1.82556707e-04 9.12783533e-05]]\n",
            "\n",
            "\n"
          ],
          "name": "stdout"
        }
      ]
    },
    {
      "cell_type": "code",
      "metadata": {
        "colab": {
          "base_uri": "https://localhost:8080/"
        },
        "id": "qcUYtW6Wqi2y",
        "outputId": "4f2d5633-d04e-48e9-a105-6c8470b1c54f"
      },
      "source": [
        "#Crosstab, Contingency Table and Chi Square\n",
        "import pandas as pd\n",
        "import scipy.stats as stats\n",
        " \n",
        "print(dataset.info())\n",
        "print(\"\\n\")\n",
        " \n",
        "print(dataset.describe())\n",
        "print(\"\\n\")\n",
        " \n",
        "print(\"Total number of males and females who survived in the dataset\")\n",
        "groupby_Temperature = dataset.groupby([\"Temperature\", \"Rainfall\"]).size()\n",
        "print(groupby_Temperature)\n",
        "print(\"\\n\")\n",
        " \n",
        "crosstab = pd.crosstab(dataset[\"Temperature\"], dataset[\"Rainfall\"])\n",
        "print(crosstab)\n",
        "print(\"\\n\")\n",
        " \n",
        "#Conduct the Chi Square Independence Test\n",
        "#Interpretation https://www.pythonfordatascience.org/chi-square-test-of-independence-python/\n",
        "#The information is returned within a tuple where the first value is the  test static, \n",
        "#the second value is the p-value, \n",
        "#and the third number is the degrees of freedom. \n",
        "#An array is also returned which contains the expected cell counts.\n",
        " \n",
        "w, x, y, z = stats.chi2_contingency(crosstab)\n",
        "print(\"The Chi Square value is:\", w)\n",
        "print(\"The pvalue is:\", x)\n",
        "print(\"The value for degree of freedom is :\", y)\n",
        "print(\"Expected cell counts is:\", z)\n",
        "print(\"\\n\")\n",
        " "
      ],
      "execution_count": null,
      "outputs": [
        {
          "output_type": "stream",
          "text": [
            "<class 'pandas.core.frame.DataFrame'>\n",
            "RangeIndex: 43822 entries, 0 to 43821\n",
            "Data columns (total 7 columns):\n",
            " #   Column          Non-Null Count  Dtype \n",
            "---  ------          --------------  ----- \n",
            " 0   Time            43822 non-null  object\n",
            " 1   Temperature     43822 non-null  int64 \n",
            " 2   RH              43822 non-null  int64 \n",
            " 3   Pressure        43822 non-null  int64 \n",
            " 4   Wind Speed      43822 non-null  int64 \n",
            " 5   Wind Direction  43822 non-null  int64 \n",
            " 6   Rainfall        43822 non-null  int64 \n",
            "dtypes: int64(6), object(1)\n",
            "memory usage: 2.3+ MB\n",
            "None\n",
            "\n",
            "\n",
            "        Temperature            RH  ...  Wind Direction      Rainfall\n",
            "count  43822.000000  43822.000000  ...    43822.000000  43822.000000\n",
            "mean      61.195769     74.000434  ...      241.540003   5776.382662\n",
            "std       50.572409     21.260745  ...       93.700305   1049.528727\n",
            "min      -63.000000      0.000000  ...        0.000000      0.000000\n",
            "25%       30.000000     60.000000  ...      225.000000   5647.000000\n",
            "50%       57.000000     72.000000  ...      270.000000   5778.000000\n",
            "75%       87.000000     86.000000  ...      292.000000   5808.000000\n",
            "max      262.000000    198.000000  ...      720.000000  11914.000000\n",
            "\n",
            "[8 rows x 6 columns]\n",
            "\n",
            "\n",
            "Total number of males and females who survived in the dataset\n",
            "Temperature  Rainfall\n",
            "-63          5962          4\n",
            "-62          5962        127\n",
            "-61          0            25\n",
            "             5962         59\n",
            "-60          5962         48\n",
            "                        ... \n",
            " 258         5367         10\n",
            " 259         5367          4\n",
            " 260         5367         11\n",
            " 261         5367          8\n",
            " 262         5367          4\n",
            "Length: 845, dtype: int64\n",
            "\n",
            "\n",
            "Rainfall     0      5367   5368   5369   ...  11760  11762  11764  11914\n",
            "Temperature                              ...                            \n",
            "-63              0      0      0      0  ...      0      0      0      0\n",
            "-62              0      0      0      0  ...      0      0      0      0\n",
            "-61             25      0      0      0  ...      0      0      0      0\n",
            "-60              0      0      0      0  ...      0      0      0      0\n",
            "-59              0      0      0      0  ...      0      0      0      0\n",
            "...            ...    ...    ...    ...  ...    ...    ...    ...    ...\n",
            " 258             0     10      0      0  ...      0      0      0      0\n",
            " 259             0      4      0      0  ...      0      0      0      0\n",
            " 260             0     11      0      0  ...      0      0      0      0\n",
            " 261             0      8      0      0  ...      0      0      0      0\n",
            " 262             0      4      0      0  ...      0      0      0      0\n",
            "\n",
            "[322 rows x 518 columns]\n",
            "\n",
            "\n",
            "The Chi Square value is: 2591600.8491289928\n",
            "The pvalue is: 0.0\n",
            "The value for degree of freedom is : 165957\n",
            "Expected cell counts is: [[4.88339190e-02 1.57272603e-01 1.82556707e-04 ... 1.88033408e-02\n",
            "  3.83369084e-03 2.48277121e-02]\n",
            " [1.55047693e+00 4.99340514e+00 5.79617544e-03 ... 5.97006070e-01\n",
            "  1.21719684e-01 7.88279859e-01]\n",
            " [1.02551230e+00 3.30272466e+00 3.83369084e-03 ... 3.94870157e-01\n",
            "  8.05075076e-02 5.21381954e-01]\n",
            " ...\n",
            " [1.34293277e-01 4.32499658e-01 5.02030943e-04 ... 5.17091872e-02\n",
            "  1.05426498e-02 6.82762083e-02]\n",
            " [9.76678381e-02 3.14545206e-01 3.65113413e-04 ... 3.76066816e-02\n",
            "  7.66738168e-03 4.96554242e-02]\n",
            " [4.88339190e-02 1.57272603e-01 1.82556707e-04 ... 1.88033408e-02\n",
            "  3.83369084e-03 2.48277121e-02]]\n",
            "\n",
            "\n"
          ],
          "name": "stdout"
        }
      ]
    },
    {
      "cell_type": "code",
      "metadata": {
        "colab": {
          "base_uri": "https://localhost:8080/",
          "height": 311
        },
        "id": "7Bt4bp1jEMwr",
        "outputId": "5e1c4d8f-50e4-4dc0-c81b-04f5aba85407"
      },
      "source": [
        "import matplotlib.pyplot as plt\n",
        "dataset.plot(kind='scatter', x='RH', y='Temperature')\n",
        "plt.title(\"Temperature and RH\", fontsize=20)\n",
        "plt.xlabel(\"RH\", labelpad=15)\n",
        "plt.ylabel(\"Temperature\", labelpad=15)\n",
        "plt.grid()\n",
        "plt.show()"
      ],
      "execution_count": null,
      "outputs": [
        {
          "output_type": "display_data",
          "data": {
            "image/png": "[encoded data removed]",
            "text/plain": [
              "<Figure size 432x288 with 1 Axes>"
            ]
          },
          "metadata": {
            "tags": []
          }
        }
      ]
    },
    {
      "cell_type": "markdown",
      "metadata": {
        "id": "3S-F-8oVuApZ"
      },
      "source": [
        "Time Series"
      ]
    },
    {
      "cell_type": "code",
      "metadata": {
        "colab": {
          "base_uri": "https://localhost:8080/"
        },
        "id": "2BhjfLpwr8p9",
        "outputId": "74f322a5-ac76-4a55-a140-784d472804b2"
      },
      "source": [
        "import pandas as pd\n",
        "import datetime\n",
        " \n",
        "#Load dataset\n",
        "\n",
        "print('Number of records/rows is ', len(dataset))\n",
        "print(dataset.head())\n",
        "print(\"\\n\")\n",
        "print(dataset.iloc[ : , 0:14])\n",
        "print(\"\\n\")\n",
        " \n",
        "#A lot of missing data\n",
        "#is a null value\n",
        "print(dataset.isna().sum())\n",
        "print(\"\\n\")\n",
        " \n",
        "#not a null value\n",
        "print(dataset.notnull().sum())\n",
        "print(\"\\n\")\n"
      ],
      "execution_count": null,
      "outputs": [
        {
          "output_type": "stream",
          "text": [
            "Number of records/rows is  43822\n",
            "                      Time  Temperature  ...  Wind Direction  Rainfall\n",
            "0  2017-10-21T09:22:54.000          262  ...             292      5367\n",
            "1  2017-10-21T09:23:55.000          262  ...             315      5367\n",
            "2  2017-10-21T09:24:56.000          262  ...             270      5367\n",
            "3  2017-10-21T09:25:59.000          262  ...             315      5367\n",
            "4  2017-10-21T09:27:02.000          261  ...             292      5367\n",
            "\n",
            "[5 rows x 7 columns]\n",
            "\n",
            "\n",
            "                          Time  Temperature  ...  Wind Direction  Rainfall\n",
            "0      2017-10-21T09:22:54.000          262  ...             292      5367\n",
            "1      2017-10-21T09:23:55.000          262  ...             315      5367\n",
            "2      2017-10-21T09:24:56.000          262  ...             270      5367\n",
            "3      2017-10-21T09:25:59.000          262  ...             315      5367\n",
            "4      2017-10-21T09:27:02.000          261  ...             292      5367\n",
            "...                        ...          ...  ...             ...       ...\n",
            "43817  2017-12-12T15:56:16.000          -62  ...             270      5962\n",
            "43818  2017-12-12T15:57:18.000          -63  ...             315      5962\n",
            "43819  2017-12-12T15:58:21.000          -63  ...             270      5962\n",
            "43820  2017-12-12T15:59:24.000          -63  ...             270      5962\n",
            "43821                     Time          -63  ...             270      5962\n",
            "\n",
            "[43822 rows x 7 columns]\n",
            "\n",
            "\n",
            "Time              0\n",
            "Temperature       0\n",
            "RH                0\n",
            "Pressure          0\n",
            "Wind Speed        0\n",
            "Wind Direction    0\n",
            "Rainfall          0\n",
            "dtype: int64\n",
            "\n",
            "\n",
            "Time              43822\n",
            "Temperature       43822\n",
            "RH                43822\n",
            "Pressure          43822\n",
            "Wind Speed        43822\n",
            "Wind Direction    43822\n",
            "Rainfall          43822\n",
            "dtype: int64\n",
            "\n",
            "\n"
          ],
          "name": "stdout"
        }
      ]
    }
  ]
}