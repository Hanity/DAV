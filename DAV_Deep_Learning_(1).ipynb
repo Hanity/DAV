{
  "nbformat": 4,
  "nbformat_minor": 0,
  "metadata": {
    "colab": {
      "name": "DAV Deep Learning .ipynb",
      "provenance": []
    },
    "kernelspec": {
      "name": "python3",
      "display_name": "Python 3"
    },
    "language_info": {
      "name": "python"
    }
  },
  "cells": [
    {
      "cell_type": "code",
      "metadata": {
        "id": "LRi-94bh_Aw9"
      },
      "source": [
        "import pandas as pd\n",
        "import numpy as np\n",
        "import numpy\n",
        "from numpy import array\n",
        "import matplotlib.pyplot as plt\n",
        "import tensorflow as tf\n",
        "import sklearn as sk\n",
        "from tensorflow import keras\n",
        "from tensorflow.keras import layers\n",
        "from tensorflow.keras.layers.experimental import preprocessing\n",
        "from sklearn.model_selection import train_test_split\n",
        "from keras.models import Sequential\n",
        "from keras.layers import Dense, Activation\n",
        "from sklearn.model_selection import train_test_split\n",
        "import keras\n",
        "from keras.models import Sequential\n",
        "from keras.layers import Dense\n",
        "import numpy as np\n",
        "import pandas as pd\n",
        "\n"
      ],
      "execution_count": null,
      "outputs": []
    },
    {
      "cell_type": "code",
      "metadata": {
        "colab": {
          "base_uri": "https://localhost:8080/",
          "height": 206
        },
        "id": "T7XuzUUoCBhd",
        "outputId": "5dd9174a-1dfb-4853-8991-3a305f642b91"
      },
      "source": [
        "\n",
        "dataset = pd.read_excel(\"final.xlsx\")\n",
        "z = dataset.drop([\"Wind Speed\",\"Wind Direction\",'Time','Pressure'], axis=1)\n",
        "z.head()\n",
        "\n"
      ],
      "execution_count": null,
      "outputs": [
        {
          "output_type": "execute_result",
          "data": {
            "text/html": [
              "<div>\n",
              "<style scoped>\n",
              "    .dataframe tbody tr th:only-of-type {\n",
              "        vertical-align: middle;\n",
              "    }\n",
              "\n",
              "    .dataframe tbody tr th {\n",
              "        vertical-align: top;\n",
              "    }\n",
              "\n",
              "    .dataframe thead th {\n",
              "        text-align: right;\n",
              "    }\n",
              "</style>\n",
              "<table border=\"1\" class=\"dataframe\">\n",
              "  <thead>\n",
              "    <tr style=\"text-align: right;\">\n",
              "      <th></th>\n",
              "      <th>Temperature</th>\n",
              "      <th>RH</th>\n",
              "      <th>Rainfall</th>\n",
              "    </tr>\n",
              "  </thead>\n",
              "  <tbody>\n",
              "    <tr>\n",
              "      <th>0</th>\n",
              "      <td>262</td>\n",
              "      <td>60</td>\n",
              "      <td>5367</td>\n",
              "    </tr>\n",
              "    <tr>\n",
              "      <th>1</th>\n",
              "      <td>262</td>\n",
              "      <td>60</td>\n",
              "      <td>5367</td>\n",
              "    </tr>\n",
              "    <tr>\n",
              "      <th>2</th>\n",
              "      <td>262</td>\n",
              "      <td>60</td>\n",
              "      <td>5367</td>\n",
              "    </tr>\n",
              "    <tr>\n",
              "      <th>3</th>\n",
              "      <td>262</td>\n",
              "      <td>60</td>\n",
              "      <td>5367</td>\n",
              "    </tr>\n",
              "    <tr>\n",
              "      <th>4</th>\n",
              "      <td>261</td>\n",
              "      <td>60</td>\n",
              "      <td>5367</td>\n",
              "    </tr>\n",
              "  </tbody>\n",
              "</table>\n",
              "</div>"
            ],
            "text/plain": [
              "   Temperature  RH  Rainfall\n",
              "0          262  60      5367\n",
              "1          262  60      5367\n",
              "2          262  60      5367\n",
              "3          262  60      5367\n",
              "4          261  60      5367"
            ]
          },
          "metadata": {
            "tags": []
          },
          "execution_count": 9
        }
      ]
    },
    {
      "cell_type": "code",
      "metadata": {
        "id": "zCRk0OpzCQZf"
      },
      "source": [
        "\n",
        "\n",
        "#Changing pandas dataframe to numpy array\n",
        "X = z.iloc[:,0:1].values\n",
        "y = z.iloc[:,1:2].values\n",
        "\n"
      ],
      "execution_count": null,
      "outputs": []
    },
    {
      "cell_type": "code",
      "metadata": {
        "id": "oa_LN_PYCZgH"
      },
      "source": [
        "X_train,X_test,y_train,y_test = train_test_split(X,y,test_size = 0.15,random_state = 1)"
      ],
      "execution_count": null,
      "outputs": []
    },
    {
      "cell_type": "code",
      "metadata": {
        "colab": {
          "base_uri": "https://localhost:8080/"
        },
        "id": "PQ1bkBQoCiPs",
        "outputId": "11699bf5-5902-4cec-95af-27cac2f66a6b"
      },
      "source": [
        "X_train.shape"
      ],
      "execution_count": null,
      "outputs": [
        {
          "output_type": "execute_result",
          "data": {
            "text/plain": [
              "(37248, 1)"
            ]
          },
          "metadata": {
            "tags": []
          },
          "execution_count": 6
        }
      ]
    },
    {
      "cell_type": "code",
      "metadata": {
        "id": "XgIxg4MeCqT-"
      },
      "source": [
        "\n",
        "\n",
        "model = Sequential()\n",
        "model.add(Dense(200, input_dim=1, activation='relu'))\n",
        "model.add(Dense(200, input_dim=200, activation='relu'))\n",
        "model.add(Dense(200, input_dim=200, activation='relu'))\n",
        "model.add(Dense(1, activation='linear'))\n",
        "\n"
      ],
      "execution_count": null,
      "outputs": []
    },
    {
      "cell_type": "code",
      "metadata": {
        "id": "TeGYLfVNCq-Z",
        "colab": {
          "base_uri": "https://localhost:8080/"
        },
        "outputId": "08284dbe-8d7e-4c78-92c5-289f19aa45ab"
      },
      "source": [
        "keras.optimizers.Adam(lr=0.0001, beta_1=0.9, beta_2=0.999, amsgrad=False)\n",
        "model.compile(loss='mean_squared_error', optimizer='RMSprop', metrics=['mean_absolute_percentage_error'])"
      ],
      "execution_count": null,
      "outputs": [
        {
          "output_type": "stream",
          "text": [
            "/usr/local/lib/python3.7/dist-packages/tensorflow/python/keras/optimizer_v2/optimizer_v2.py:375: UserWarning: The `lr` argument is deprecated, use `learning_rate` instead.\n",
            "  \"The `lr` argument is deprecated, use `learning_rate` instead.\")\n"
          ],
          "name": "stderr"
        }
      ]
    },
    {
      "cell_type": "code",
      "metadata": {
        "colab": {
          "base_uri": "https://localhost:8080/"
        },
        "id": "j70bQcdHCuI0",
        "outputId": "7aac9d94-7140-4a46-a480-c6009ac90dfb"
      },
      "source": [
        "#To visualize neural network\n",
        "model.summary()"
      ],
      "execution_count": null,
      "outputs": [
        {
          "output_type": "stream",
          "text": [
            "Model: \"sequential\"\n",
            "_________________________________________________________________\n",
            "Layer (type)                 Output Shape              Param #   \n",
            "=================================================================\n",
            "dense (Dense)                (None, 200)               400       \n",
            "_________________________________________________________________\n",
            "dense_1 (Dense)              (None, 200)               40200     \n",
            "_________________________________________________________________\n",
            "dense_2 (Dense)              (None, 200)               40200     \n",
            "_________________________________________________________________\n",
            "dense_3 (Dense)              (None, 1)                 201       \n",
            "=================================================================\n",
            "Total params: 81,001\n",
            "Trainable params: 81,001\n",
            "Non-trainable params: 0\n",
            "_________________________________________________________________\n"
          ],
          "name": "stdout"
        }
      ]
    },
    {
      "cell_type": "code",
      "metadata": {
        "id": "_qqrn2vbCw0x",
        "colab": {
          "base_uri": "https://localhost:8080/"
        },
        "outputId": "e1d75613-5614-4a71-f864-bb4bf608cf92"
      },
      "source": [
        "\n",
        "history = model.fit(X_train, y_train, epochs=50, batch_size=32,validation_split=0.15,validation_data=None,verbose=1)\n",
        "\n"
      ],
      "execution_count": null,
      "outputs": [
        {
          "output_type": "stream",
          "text": [
            "Epoch 1/50\n",
            "990/990 [==============================] - 17s 3ms/step - loss: 1585.2850 - mean_absolute_percentage_error: 162525484.5550 - val_loss: 410.1914 - val_mean_absolute_percentage_error: 192048448.0000\n",
            "Epoch 2/50\n",
            "990/990 [==============================] - 3s 3ms/step - loss: 424.0725 - mean_absolute_percentage_error: 182022458.0563 - val_loss: 426.3062 - val_mean_absolute_percentage_error: 165053984.0000\n",
            "Epoch 3/50\n",
            "990/990 [==============================] - 2s 2ms/step - loss: 359.0106 - mean_absolute_percentage_error: 199378619.6367 - val_loss: 355.9790 - val_mean_absolute_percentage_error: 176088224.0000\n",
            "Epoch 4/50\n",
            "990/990 [==============================] - 3s 3ms/step - loss: 324.3591 - mean_absolute_percentage_error: 195573250.2449 - val_loss: 575.1072 - val_mean_absolute_percentage_error: 176771680.0000\n",
            "Epoch 5/50\n",
            "990/990 [==============================] - 2s 2ms/step - loss: 296.7218 - mean_absolute_percentage_error: 233519454.2048 - val_loss: 223.5241 - val_mean_absolute_percentage_error: 157681584.0000\n",
            "Epoch 6/50\n",
            "990/990 [==============================] - 3s 3ms/step - loss: 276.4018 - mean_absolute_percentage_error: 204328318.4192 - val_loss: 207.7307 - val_mean_absolute_percentage_error: 176223520.0000\n",
            "Epoch 7/50\n",
            "990/990 [==============================] - 3s 3ms/step - loss: 254.5561 - mean_absolute_percentage_error: 239030123.1523 - val_loss: 189.6098 - val_mean_absolute_percentage_error: 179604544.0000\n",
            "Epoch 8/50\n",
            "990/990 [==============================] - 3s 3ms/step - loss: 242.6507 - mean_absolute_percentage_error: 213375942.3436 - val_loss: 174.1043 - val_mean_absolute_percentage_error: 166845856.0000\n",
            "Epoch 9/50\n",
            "990/990 [==============================] - 3s 3ms/step - loss: 233.6984 - mean_absolute_percentage_error: 215395302.6680 - val_loss: 198.9976 - val_mean_absolute_percentage_error: 184926976.0000\n",
            "Epoch 10/50\n",
            "990/990 [==============================] - 3s 3ms/step - loss: 226.0441 - mean_absolute_percentage_error: 213876432.6781 - val_loss: 243.9210 - val_mean_absolute_percentage_error: 172883248.0000\n",
            "Epoch 11/50\n",
            "990/990 [==============================] - 3s 3ms/step - loss: 219.1157 - mean_absolute_percentage_error: 196156108.0195 - val_loss: 184.6531 - val_mean_absolute_percentage_error: 169522912.0000\n",
            "Epoch 12/50\n",
            "990/990 [==============================] - 3s 3ms/step - loss: 221.1301 - mean_absolute_percentage_error: 221490146.4541 - val_loss: 237.4699 - val_mean_absolute_percentage_error: 164569680.0000\n",
            "Epoch 13/50\n",
            "990/990 [==============================] - 3s 3ms/step - loss: 210.4945 - mean_absolute_percentage_error: 245588363.7183 - val_loss: 196.5896 - val_mean_absolute_percentage_error: 182654176.0000\n",
            "Epoch 14/50\n",
            "990/990 [==============================] - 3s 3ms/step - loss: 215.0899 - mean_absolute_percentage_error: 222525344.4145 - val_loss: 162.6290 - val_mean_absolute_percentage_error: 172887520.0000\n",
            "Epoch 15/50\n",
            "990/990 [==============================] - 3s 3ms/step - loss: 199.1483 - mean_absolute_percentage_error: 225259296.0594 - val_loss: 270.2936 - val_mean_absolute_percentage_error: 178982656.0000\n",
            "Epoch 16/50\n",
            "990/990 [==============================] - 3s 3ms/step - loss: 201.3663 - mean_absolute_percentage_error: 238305246.1278 - val_loss: 237.8279 - val_mean_absolute_percentage_error: 182377664.0000\n",
            "Epoch 17/50\n",
            "990/990 [==============================] - 3s 3ms/step - loss: 197.3747 - mean_absolute_percentage_error: 204099153.4291 - val_loss: 161.4259 - val_mean_absolute_percentage_error: 173551520.0000\n",
            "Epoch 18/50\n",
            "990/990 [==============================] - 3s 3ms/step - loss: 197.8452 - mean_absolute_percentage_error: 226560471.4315 - val_loss: 272.5930 - val_mean_absolute_percentage_error: 165086176.0000\n",
            "Epoch 19/50\n",
            "990/990 [==============================] - 3s 3ms/step - loss: 191.0259 - mean_absolute_percentage_error: 194454715.6555 - val_loss: 245.4263 - val_mean_absolute_percentage_error: 162125808.0000\n",
            "Epoch 20/50\n",
            "990/990 [==============================] - 3s 3ms/step - loss: 192.2673 - mean_absolute_percentage_error: 189629427.6333 - val_loss: 222.1336 - val_mean_absolute_percentage_error: 184325680.0000\n",
            "Epoch 21/50\n",
            "990/990 [==============================] - 3s 3ms/step - loss: 185.0787 - mean_absolute_percentage_error: 192366439.0145 - val_loss: 397.7078 - val_mean_absolute_percentage_error: 188063776.0000\n",
            "Epoch 22/50\n",
            "990/990 [==============================] - 3s 3ms/step - loss: 192.0700 - mean_absolute_percentage_error: 213786181.4390 - val_loss: 192.7287 - val_mean_absolute_percentage_error: 151359952.0000\n",
            "Epoch 23/50\n",
            "990/990 [==============================] - 2s 2ms/step - loss: 184.3462 - mean_absolute_percentage_error: 229220190.2224 - val_loss: 262.8716 - val_mean_absolute_percentage_error: 160601824.0000\n",
            "Epoch 24/50\n",
            "990/990 [==============================] - 3s 3ms/step - loss: 193.3845 - mean_absolute_percentage_error: 234791349.8411 - val_loss: 164.5621 - val_mean_absolute_percentage_error: 163046800.0000\n",
            "Epoch 25/50\n",
            "990/990 [==============================] - 2s 2ms/step - loss: 181.1983 - mean_absolute_percentage_error: 199926631.4245 - val_loss: 158.0036 - val_mean_absolute_percentage_error: 166030272.0000\n",
            "Epoch 26/50\n",
            "990/990 [==============================] - 3s 3ms/step - loss: 187.8302 - mean_absolute_percentage_error: 212030534.1896 - val_loss: 283.8967 - val_mean_absolute_percentage_error: 173753360.0000\n",
            "Epoch 27/50\n",
            "990/990 [==============================] - 3s 3ms/step - loss: 182.0404 - mean_absolute_percentage_error: 201834195.8221 - val_loss: 169.3958 - val_mean_absolute_percentage_error: 158578496.0000\n",
            "Epoch 28/50\n",
            "990/990 [==============================] - 2s 2ms/step - loss: 183.1288 - mean_absolute_percentage_error: 216650937.3311 - val_loss: 205.4128 - val_mean_absolute_percentage_error: 162373328.0000\n",
            "Epoch 29/50\n",
            "990/990 [==============================] - 2s 2ms/step - loss: 179.7708 - mean_absolute_percentage_error: 190394091.4713 - val_loss: 167.1736 - val_mean_absolute_percentage_error: 173235936.0000\n",
            "Epoch 30/50\n",
            "990/990 [==============================] - 3s 3ms/step - loss: 186.1966 - mean_absolute_percentage_error: 248538644.6962 - val_loss: 167.4740 - val_mean_absolute_percentage_error: 174788048.0000\n",
            "Epoch 31/50\n",
            "990/990 [==============================] - 3s 3ms/step - loss: 175.8872 - mean_absolute_percentage_error: 185751505.9650 - val_loss: 167.6840 - val_mean_absolute_percentage_error: 187481696.0000\n",
            "Epoch 32/50\n",
            "990/990 [==============================] - 2s 2ms/step - loss: 181.8147 - mean_absolute_percentage_error: 235325927.6194 - val_loss: 240.3630 - val_mean_absolute_percentage_error: 158266576.0000\n",
            "Epoch 33/50\n",
            "990/990 [==============================] - 2s 3ms/step - loss: 177.0009 - mean_absolute_percentage_error: 199721518.1918 - val_loss: 205.8779 - val_mean_absolute_percentage_error: 155097680.0000\n",
            "Epoch 34/50\n",
            "990/990 [==============================] - 3s 3ms/step - loss: 175.8683 - mean_absolute_percentage_error: 198221868.2692 - val_loss: 167.2588 - val_mean_absolute_percentage_error: 174789856.0000\n",
            "Epoch 35/50\n",
            "990/990 [==============================] - 2s 2ms/step - loss: 173.2785 - mean_absolute_percentage_error: 234042425.2755 - val_loss: 176.5414 - val_mean_absolute_percentage_error: 174579520.0000\n",
            "Epoch 36/50\n",
            "990/990 [==============================] - 3s 3ms/step - loss: 170.8682 - mean_absolute_percentage_error: 213112633.9693 - val_loss: 213.9464 - val_mean_absolute_percentage_error: 165552912.0000\n",
            "Epoch 37/50\n",
            "990/990 [==============================] - 2s 3ms/step - loss: 172.7668 - mean_absolute_percentage_error: 221341128.1607 - val_loss: 162.4269 - val_mean_absolute_percentage_error: 172349856.0000\n",
            "Epoch 38/50\n",
            "990/990 [==============================] - 3s 3ms/step - loss: 171.7600 - mean_absolute_percentage_error: 195070309.1988 - val_loss: 176.1199 - val_mean_absolute_percentage_error: 180017296.0000\n",
            "Epoch 39/50\n",
            "990/990 [==============================] - 2s 2ms/step - loss: 173.1925 - mean_absolute_percentage_error: 212275972.0804 - val_loss: 158.1695 - val_mean_absolute_percentage_error: 165287520.0000\n",
            "Epoch 40/50\n",
            "990/990 [==============================] - 3s 3ms/step - loss: 172.2366 - mean_absolute_percentage_error: 213985787.3583 - val_loss: 142.2526 - val_mean_absolute_percentage_error: 171547088.0000\n",
            "Epoch 41/50\n",
            "990/990 [==============================] - 2s 2ms/step - loss: 166.3807 - mean_absolute_percentage_error: 236216102.5873 - val_loss: 196.5399 - val_mean_absolute_percentage_error: 173760384.0000\n",
            "Epoch 42/50\n",
            "990/990 [==============================] - 2s 2ms/step - loss: 169.4190 - mean_absolute_percentage_error: 200914154.2691 - val_loss: 147.3742 - val_mean_absolute_percentage_error: 176763248.0000\n",
            "Epoch 43/50\n",
            "990/990 [==============================] - 3s 3ms/step - loss: 171.0435 - mean_absolute_percentage_error: 232049639.9271 - val_loss: 199.5426 - val_mean_absolute_percentage_error: 162138176.0000\n",
            "Epoch 44/50\n",
            "990/990 [==============================] - 3s 3ms/step - loss: 167.3495 - mean_absolute_percentage_error: 209760764.6322 - val_loss: 154.4707 - val_mean_absolute_percentage_error: 188926864.0000\n",
            "Epoch 45/50\n",
            "990/990 [==============================] - 3s 3ms/step - loss: 163.3112 - mean_absolute_percentage_error: 214623706.1251 - val_loss: 216.1292 - val_mean_absolute_percentage_error: 170783408.0000\n",
            "Epoch 46/50\n",
            "990/990 [==============================] - 3s 3ms/step - loss: 165.2235 - mean_absolute_percentage_error: 213771975.9001 - val_loss: 162.0215 - val_mean_absolute_percentage_error: 173586944.0000\n",
            "Epoch 47/50\n",
            "990/990 [==============================] - 3s 3ms/step - loss: 167.2711 - mean_absolute_percentage_error: 251223608.9558 - val_loss: 139.8475 - val_mean_absolute_percentage_error: 176334912.0000\n",
            "Epoch 48/50\n",
            "990/990 [==============================] - 3s 3ms/step - loss: 157.8099 - mean_absolute_percentage_error: 194554328.6384 - val_loss: 178.2094 - val_mean_absolute_percentage_error: 150721664.0000\n",
            "Epoch 49/50\n",
            "990/990 [==============================] - 3s 3ms/step - loss: 161.1801 - mean_absolute_percentage_error: 195181440.3441 - val_loss: 186.6726 - val_mean_absolute_percentage_error: 163630720.0000\n",
            "Epoch 50/50\n",
            "990/990 [==============================] - 3s 3ms/step - loss: 157.1928 - mean_absolute_percentage_error: 205299975.1457 - val_loss: 273.7845 - val_mean_absolute_percentage_error: 185852832.0000\n"
          ],
          "name": "stdout"
        }
      ]
    },
    {
      "cell_type": "code",
      "metadata": {
        "colab": {
          "base_uri": "https://localhost:8080/"
        },
        "id": "vq8w229_JOyD",
        "outputId": "53aa0012-2ed6-43e5-98bd-b9c871540852"
      },
      "source": [
        "#Evaluation of Model\n",
        "#https://machinelearningmastery.com/evaluate-performance-deep-learning-models-keras/\n",
        "scores=model.evaluate(X_test, y_test, verbose=1)\n",
        "print(\"\\n\")\n",
        "print(\"Loss, MSE (Mean Squared Error), MAE(Mean Absolute Error)\")\n",
        "print(scores)\n",
        "print(\"\\n\")\n",
        "\n",
        "# list all data in history\n",
        "print(history.history.keys())\n",
        "\n",
        "#Plot Graphs\n",
        "# plot metricsplt.plot(history.history['mse'])\n",
        "plt.plot(history.history['mae'])\n",
        "plt.title('model loss')\n",
        "plt.ylabel('loss')\n",
        "plt.xlabel('epoch')\n",
        "plt.show()"
      ],
      "execution_count": null,
      "outputs": [
        {
          "output_type": "stream",
          "text": [
            "206/206 [==============================] - 0s 1ms/step - loss: 222.7073 - mean_absolute_percentage_error: 254756272.0000\n",
            "\n",
            "\n",
            "Loss, MSE (Mean Squared Error), MAE(Mean Absolute Error)\n",
            "[222.707275390625, 254756272.0]\n",
            "\n",
            "\n",
            "dict_keys(['loss', 'mean_absolute_percentage_error', 'val_loss', 'val_mean_absolute_percentage_error'])\n"
          ],
          "name": "stdout"
        }
      ]
    },
    {
      "cell_type": "code",
      "metadata": {
        "id": "oiIEFLcLC0Qi",
        "colab": {
          "base_uri": "https://localhost:8080/"
        },
        "outputId": "5227b1ef-008c-4272-ef59-b983ab260c21"
      },
      "source": [
        "#Next is to use the deep regression model to predict the Rainfall an Temperature in UI lab \n",
        "Xnew1 = z['Temperature']\n",
        "Xnew2 = z['RH']\n",
        "ynew1 = model.predict(Xnew1)\n",
        "print(\"The predicted Rainfall for input X1 is\", ynew1)\n",
        "print(\"\\n\")\n",
        "\n",
        "ynew2 = model.predict(Xnew2)\n",
        "print(\"The predicted Rainfall  for input X2 is\", ynew2)\n",
        "print(\"\\n\")\n"
      ],
      "execution_count": null,
      "outputs": [
        {
          "output_type": "stream",
          "text": [
            "The predicted Rainfall for input X1 is [[55.748913]\n",
            " [55.748913]\n",
            " [55.748913]\n",
            " ...\n",
            " [66.14262 ]\n",
            " [66.142624]\n",
            " [66.142624]]\n",
            "\n",
            "\n",
            "The predicted Rainfall  for input X2 is [[93.86727 ]\n",
            " [93.86727 ]\n",
            " [93.86727 ]\n",
            " ...\n",
            " [86.895836]\n",
            " [86.89582 ]\n",
            " [86.89582 ]]\n",
            "\n",
            "\n"
          ],
          "name": "stdout"
        }
      ]
    },
    {
      "cell_type": "code",
      "metadata": {
        "id": "OuXrQsj3RjDb"
      },
      "source": [
        "LSTM Architecture"
      ],
      "execution_count": null,
      "outputs": []
    },
    {
      "cell_type": "code",
      "metadata": {
        "id": "2XOri3n3R8DD",
        "colab": {
          "base_uri": "https://localhost:8080/",
          "height": 1000
        },
        "outputId": "114efa7c-0b46-4ebe-947d-fb5e885f132a"
      },
      "source": [
        "\n",
        "\n",
        "\n",
        "import pandas as pd\n",
        "\n",
        "\n",
        "from pandas import DataFrame\n",
        "from pandas import Series\n",
        "from pandas import concat\n",
        "from pandas import read_csv\n",
        "from pandas import datetime\n",
        "from sklearn.metrics import mean_squared_error\n",
        "from sklearn.metrics import r2_score\n",
        "from sklearn.preprocessing import MinMaxScaler\n",
        "from keras.models import Sequential\n",
        "from keras.layers import Dense\n",
        "from keras.layers import LSTM\n",
        "from keras.layers import GRU\n",
        "from math import sqrt\n",
        "from matplotlib import pyplot\n",
        "import numpy\n",
        "\n",
        "from keras.callbacks import EarlyStopping\n",
        "from keras.callbacks import ModelCheckpoint\n",
        "from keras.models import load_model\n",
        "\n",
        "\n",
        "\n",
        "# date-time parsing function for loading the dataset\n",
        "def parser(x):\n",
        "\treturn datetime.strptime('190'+x, '%Y-%m')\n",
        "\n",
        "# frame a sequence as a supervised learning problem\n",
        "def timeseries_to_supervised(data, lag=1):\n",
        "\tdf = DataFrame(data)\n",
        "\tcolumns = [df.shift(i) for i in range(1, lag+1)]\n",
        "\tcolumns.append(df)\n",
        "\tdf = concat(columns, axis=1)\n",
        "\tdf.fillna(0, inplace=True)\n",
        "\treturn df\n",
        "\n",
        "# create a differenced series\n",
        "def difference(dataset, interval=1):\n",
        "\tdiff = list()\n",
        "\tfor i in range(interval, len(dataset)):\n",
        "\t\tvalue = dataset[i] - dataset[i - interval]\n",
        "\t\tdiff.append(value)\n",
        "\treturn Series(diff)\n",
        "\n",
        "# invert differenced value\n",
        "def inverse_difference(history, yhat, interval=1):\n",
        "\treturn yhat + history[-interval]\n",
        "\n",
        "# scale train and test data to [-1, 1]\n",
        "def scale(train, test):\n",
        "\t# fit scaler\n",
        "\tscaler = MinMaxScaler(feature_range=(-1, 1))\n",
        "\tscaler = scaler.fit(train)\n",
        "\t# transform train\n",
        "\ttrain = train.reshape(train.shape[0], train.shape[1])\n",
        "\ttrain_scaled = scaler.transform(train)\n",
        "\t# transform test\n",
        "\ttest = test.reshape(test.shape[0], test.shape[1])\n",
        "\ttest_scaled = scaler.transform(test)\n",
        "\treturn scaler, train_scaled, test_scaled\n",
        "\n",
        "# inverse scaling for a forecasted value\n",
        "def invert_scale(scaler, X, value):\n",
        "\tnew_row = [x for x in X] + [value]\n",
        "\tarray = numpy.array(new_row)\n",
        "\tarray = array.reshape(1, len(array))\n",
        "\tinverted = scaler.inverse_transform(array)\n",
        "\treturn inverted[0, -1]\n",
        "\n",
        "# fit an LSTM network to training data\n",
        "def fit_lstm(train, batch_size, nb_epoch, neurons):\n",
        "  X, y = train[:, 0:-1], train[:, -1]\n",
        "  X = X.reshape(X.shape[0], 1, X.shape[1])\n",
        "  \n",
        "  model = Sequential()\n",
        "  model.add(LSTM(neurons, batch_input_shape=(batch_size, X.shape[1], X.shape[2]), stateful=True))\n",
        "  model.add(Dense(1))\n",
        "  model.compile(loss='mean_squared_error', optimizer='adam')\n",
        "\n",
        "  # simple early stopping\n",
        "  es = EarlyStopping(monitor='val_loss', mode='min', patience=10, verbose= 1)\n",
        "  mc = ModelCheckpoint('best_model.h5', monitor='val_loss', mode='min', verbose=1)\n",
        "  \n",
        "  model.fit(X, y, epochs=nb_epoch, batch_size=batch_size, verbose=1, shuffle=False, callbacks=[es, mc], validation_split=0.3)\n",
        "  saved_model = load_model('best_model.h5')\n",
        "  \n",
        "  return saved_model\n",
        "  \n",
        "# make a one-step forecast\n",
        "def forecast_lstm(model, batch_size, X):\n",
        "\tX = X.reshape(1, 1, len(X))\n",
        "\tyhat = model.predict(X, batch_size=batch_size)\n",
        "\treturn yhat[0,0]\n",
        "\n",
        "# load dataset\n",
        "cwd = pd.read_excel('final.xlsx')\n",
        "\n",
        "series = cwd['Temperature']\n",
        "\n",
        "# transform data to be stationary\n",
        "raw_values = series.values\n",
        "diff_values = difference(raw_values, 1)\n",
        "\n",
        "# transform data to be supervised learning\n",
        "supervised = timeseries_to_supervised(diff_values, 1)\n",
        "supervised_values = supervised.values\n",
        "\n",
        "# Split data into training (80%) and test (20%)\n",
        "nrow = round(0.7*series.shape[0])\n",
        "train, test = supervised_values[0:nrow], supervised_values[(nrow+1):]\n",
        "\n",
        "\n",
        "# transform the scale of the data\n",
        "scaler, train_scaled, test_scaled = scale(train, test)\n",
        "\n",
        "# fit the model\n",
        "lstm_model = fit_lstm(train_scaled, 1, 10, 20)\n",
        "# forecast the entire training dataset to build up state for forecasting\n",
        "train_reshaped = train_scaled[:, 0].reshape(len(train_scaled), 1, 1)\n",
        "lstm_model.predict(train_reshaped, batch_size=1)\n",
        "\n",
        "# evaluate the model\n",
        "X, y = train_scaled[:, 0:-1], train_scaled[:, -1]\n",
        "trainX = X.reshape(X.shape[0], 1, X.shape[1])\n",
        "trainy = y \n",
        "\n",
        "train_pred = lstm_model.predict(trainX, batch_size=1)\n",
        "train_mse = mean_squared_error(trainy, train_pred)\n",
        "\n",
        "X, y = test_scaled[:, 0:-1], test_scaled[:, -1]\n",
        "testX = X.reshape(X.shape[0], 1, X.shape[1])\n",
        "testy = y\n",
        "\n",
        "test_pred = lstm_model.predict(testX, batch_size=1)\n",
        "test_mse = mean_squared_error(testy, test_pred)\n",
        "\n",
        "print('Train: %.3f, Test: %.3f' % (train_mse, test_mse))\n",
        "\n",
        "# walk-forward validation on the test data\n",
        "predictions = list()\n",
        "for i in range(len(test_scaled)):\n",
        "\t# make one-step forecast\n",
        "\tX, y = test_scaled[i, 0:-1], test_scaled[i, -1]\n",
        "\tyhat = forecast_lstm(lstm_model, 1, X)\n",
        "\t# invert scaling\n",
        "\tyhat = invert_scale(scaler, X, yhat)\n",
        "\t# invert differencing\n",
        "\tyhat = inverse_difference(raw_values, yhat, len(test_scaled)+1-i)\n",
        "\t# store forecast\n",
        "\tpredictions.append(yhat)\n",
        "\texpected = raw_values[len(train) + i + 1]\n",
        "#  print('Month=%d, Predicted=%f, Expected=%f' % (i+1, yhat, expected))\n",
        "\n",
        "# report performance\n",
        "rmse = sqrt(mean_squared_error(raw_values[(nrow+2):], predictions))\n",
        "print('Test RMSE: %.3f' % rmse)\n",
        "# line plot of observed vs predicted\n",
        "pyplot.figure(figsize=(20,12))\n",
        "pyplot.plot(raw_values[(nrow+1):])\n",
        "pyplot.plot(predictions)\n",
        "pyplot.show()\n",
        "\n",
        "from sklearn.metrics import r2_score\n",
        "rscore = sqrt(r2_score(raw_values[(nrow+2):], predictions))\n",
        "print('Test R2: %.3f' % rscore)"
      ],
      "execution_count": null,
      "outputs": [
        {
          "output_type": "stream",
          "text": [
            "/usr/local/lib/python3.7/dist-packages/ipykernel_launcher.py:11: FutureWarning: The pandas.datetime class is deprecated and will be removed from pandas in a future version. Import from datetime module instead.\n",
            "  # This is added back by InteractiveShellApp.init_path()\n"
          ],
          "name": "stderr"
        },
        {
          "output_type": "stream",
          "text": [
            "Epoch 1/10\n",
            "21472/21472 [==============================] - 69s 2ms/step - loss: 0.0144 - val_loss: 6.7090e-04\n",
            "\n",
            "Epoch 00001: saving model to best_model.h5\n",
            "Epoch 2/10\n",
            "21472/21472 [==============================] - 51s 2ms/step - loss: 0.0062 - val_loss: 6.9482e-04\n",
            "\n",
            "Epoch 00002: saving model to best_model.h5\n",
            "Epoch 3/10\n",
            "21472/21472 [==============================] - 52s 2ms/step - loss: 0.0062 - val_loss: 7.0178e-04\n",
            "\n",
            "Epoch 00003: saving model to best_model.h5\n",
            "Epoch 4/10\n",
            "21472/21472 [==============================] - 50s 2ms/step - loss: 0.0062 - val_loss: 7.0886e-04\n",
            "\n",
            "Epoch 00004: saving model to best_model.h5\n",
            "Epoch 5/10\n",
            "21472/21472 [==============================] - 53s 2ms/step - loss: 0.0062 - val_loss: 7.1395e-04\n",
            "\n",
            "Epoch 00005: saving model to best_model.h5\n",
            "Epoch 6/10\n",
            "21472/21472 [==============================] - 53s 2ms/step - loss: 0.0062 - val_loss: 7.1755e-04\n",
            "\n",
            "Epoch 00006: saving model to best_model.h5\n",
            "Epoch 7/10\n",
            "21472/21472 [==============================] - 53s 2ms/step - loss: 0.0062 - val_loss: 7.2000e-04\n",
            "\n",
            "Epoch 00007: saving model to best_model.h5\n",
            "Epoch 8/10\n",
            "21472/21472 [==============================] - 56s 3ms/step - loss: 0.0062 - val_loss: 7.2119e-04\n",
            "\n",
            "Epoch 00008: saving model to best_model.h5\n",
            "Epoch 9/10\n",
            "21472/21472 [==============================] - 52s 2ms/step - loss: 0.0062 - val_loss: 7.2148e-04\n",
            "\n",
            "Epoch 00009: saving model to best_model.h5\n",
            "Epoch 10/10\n",
            "21472/21472 [==============================] - 51s 2ms/step - loss: 0.0062 - val_loss: 7.2058e-04\n",
            "\n",
            "Epoch 00010: saving model to best_model.h5\n",
            "Train: 0.002, Test: 0.002\n",
            "Test RMSE: 0.088\n"
          ],
          "name": "stdout"
        },
        {
          "output_type": "display_data",
          "data": {
            "image/png": "[encoded data removed]",
            "text/plain": [
              "<Figure size 1440x864 with 1 Axes>"
            ]
          },
          "metadata": {
            "tags": [],
            "needs_background": "light"
          }
        },
        {
          "output_type": "stream",
          "text": [
            "Test R2: 1.000\n"
          ],
          "name": "stdout"
        }
      ]
    },
    {
      "cell_type": "code",
      "metadata": {
        "id": "sYWZIjt0rbe9",
        "colab": {
          "base_uri": "https://localhost:8080/",
          "height": 1000
        },
        "outputId": "ea7c2d71-cffe-485d-d0dc-0751cbd1291f"
      },
      "source": [
        "\n",
        "# fit the model\n",
        "lstm_model = fit_lstm(train_scaled, 1, 11, 1000)\n",
        "# forecast the entire training dataset to build up state for forecasting\n",
        "train_reshaped = train_scaled[:, 0].reshape(len(train_scaled), 1, 1)\n",
        "lstm_model.predict(train_reshaped, batch_size=1)\n",
        "\n",
        "# evaluate the model\n",
        "X, y = train_scaled[:, 0:-1], train_scaled[:, -1]\n",
        "trainX = X.reshape(X.shape[0], 1, X.shape[1])\n",
        "trainy = y \n",
        "\n",
        "train_pred = lstm_model.predict(trainX, batch_size=1)\n",
        "train_mse = mean_squared_error(trainy, train_pred)\n",
        "\n",
        "X, y = test_scaled[:, 0:-1], test_scaled[:, -1]\n",
        "testX = X.reshape(X.shape[0], 1, X.shape[1])\n",
        "testy = y\n",
        "\n",
        "test_pred = lstm_model.predict(testX, batch_size=1)\n",
        "test_mse = mean_squared_error(testy, test_pred)\n",
        "\n",
        "print('Train: %.3f, Test: %.3f' % (train_mse, test_mse))\n",
        "\n",
        "# walk-forward validation on the test data\n",
        "predictions = list()\n",
        "for i in range(len(test_scaled)):\n",
        "\t# make one-step forecast\n",
        "\tX, y = test_scaled[i, 0:-1], test_scaled[i, -1]\n",
        "\tyhat = forecast_lstm(lstm_model, 1, X)\n",
        "\t# invert scaling\n",
        "\tyhat = invert_scale(scaler, X, yhat)\n",
        "\t# invert differencing\n",
        "\tyhat = inverse_difference(raw_values, yhat, len(test_scaled)+1-i)\n",
        "\t# store forecast\n",
        "\tpredictions.append(yhat)\n",
        "\texpected = raw_values[len(train) + i + 1]\n",
        "#  print('Month=%d, Predicted=%f, Expected=%f' % (i+1, yhat, expected))\n",
        "\n",
        "# report performance\n",
        "rmse = sqrt(mean_squared_error(raw_values[(nrow+2):], predictions))\n",
        "print('Test RMSE: %.3f' % rmse)\n",
        "# line plot of observed vs predicted\n",
        "pyplot.figure(figsize=(20,12))\n",
        "pyplot.plot(raw_values[(nrow+1):])\n",
        "pyplot.plot(predictions)\n",
        "pyplot.show()\n",
        "\n",
        "from sklearn.metrics import r2_score\n",
        "rscore = sqrt(r2_score(raw_values[(nrow+2):], predictions))\n",
        "print('Test R2: %.3f' % rscore)"
      ],
      "execution_count": null,
      "outputs": [
        {
          "output_type": "stream",
          "text": [
            "Epoch 1/11\n",
            "21472/21472 [==============================] - 611s 28ms/step - loss: 0.0114 - val_loss: 7.0697e-04\n",
            "\n",
            "Epoch 00001: saving model to best_model.h5\n",
            "Epoch 2/11\n",
            "21472/21472 [==============================] - 561s 26ms/step - loss: 0.0067 - val_loss: 6.9774e-04\n",
            "\n",
            "Epoch 00002: saving model to best_model.h5\n",
            "Epoch 3/11\n",
            "21472/21472 [==============================] - 558s 26ms/step - loss: 0.0064 - val_loss: 6.6169e-04\n",
            "\n",
            "Epoch 00003: saving model to best_model.h5\n",
            "Epoch 4/11\n",
            "21472/21472 [==============================] - 539s 25ms/step - loss: 0.0063 - val_loss: 6.9637e-04\n",
            "\n",
            "Epoch 00004: saving model to best_model.h5\n",
            "Epoch 5/11\n",
            "21472/21472 [==============================] - 541s 25ms/step - loss: 0.0062 - val_loss: 7.1144e-04\n",
            "\n",
            "Epoch 00005: saving model to best_model.h5\n",
            "Epoch 6/11\n",
            "21472/21472 [==============================] - 531s 25ms/step - loss: 0.0062 - val_loss: 7.2019e-04\n",
            "\n",
            "Epoch 00006: saving model to best_model.h5\n",
            "Epoch 7/11\n",
            "21472/21472 [==============================] - 515s 24ms/step - loss: 0.0062 - val_loss: 7.2213e-04\n",
            "\n",
            "Epoch 00007: saving model to best_model.h5\n",
            "Epoch 8/11\n",
            "21472/21472 [==============================] - 519s 24ms/step - loss: 0.0062 - val_loss: 7.2007e-04\n",
            "\n",
            "Epoch 00008: saving model to best_model.h5\n",
            "Epoch 9/11\n",
            "21472/21472 [==============================] - 520s 24ms/step - loss: 0.0062 - val_loss: 7.1523e-04\n",
            "\n",
            "Epoch 00009: saving model to best_model.h5\n",
            "Epoch 10/11\n",
            "21472/21472 [==============================] - 520s 24ms/step - loss: 0.0062 - val_loss: 7.0912e-04\n",
            "\n",
            "Epoch 00010: saving model to best_model.h5\n",
            "Epoch 11/11\n",
            "21472/21472 [==============================] - 537s 25ms/step - loss: 0.0062 - val_loss: 7.0255e-04\n",
            "\n",
            "Epoch 00011: saving model to best_model.h5\n",
            "Train: 0.002, Test: 0.002\n",
            "Test RMSE: 0.088\n"
          ],
          "name": "stdout"
        },
        {
          "output_type": "display_data",
          "data": {
            "image/png": "[encoded data removed]",
            "text/plain": [
              "<Figure size 1440x864 with 1 Axes>"
            ]
          },
          "metadata": {
            "tags": [],
            "needs_background": "light"
          }
        },
        {
          "output_type": "stream",
          "text": [
            "Test R2: 1.000\n"
          ],
          "name": "stdout"
        }
      ]
    },
    {
      "cell_type": "code",
      "metadata": {
        "id": "K7GTRRaAro4b",
        "colab": {
          "base_uri": "https://localhost:8080/"
        },
        "outputId": "09ed157e-0334-4c38-ee10-822a9c54d5fb"
      },
      "source": [
        "\n",
        "\n",
        "import pandas as pd\n",
        "\n",
        "\n",
        "from pandas import DataFrame\n",
        "from pandas import Series\n",
        "from pandas import concat\n",
        "from pandas import read_csv\n",
        "from pandas import datetime\n",
        "from sklearn.metrics import mean_squared_error\n",
        "from sklearn.metrics import r2_score\n",
        "from sklearn.preprocessing import MinMaxScaler\n",
        "from keras.models import Sequential\n",
        "from keras.layers import Dense\n",
        "from keras.layers import LSTM\n",
        "from keras.layers import GRU\n",
        "from math import sqrt\n",
        "from matplotlib import pyplot\n",
        "import numpy\n",
        "\n",
        "from keras.callbacks import EarlyStopping\n",
        "from keras.callbacks import ModelCheckpoint\n",
        "from keras.models import load_model\n",
        "\n",
        "\n",
        "\n",
        "# date-time parsing function for loading the dataset\n",
        "def parser(x):\n",
        "\treturn datetime.strptime('190'+x, '%Y-%m')\n",
        "\n",
        "# frame a sequence as a supervised learning problem\n",
        "def timeseries_to_supervised(data, lag=1):\n",
        "\tdf = DataFrame(data)\n",
        "\tcolumns = [df.shift(i) for i in range(1, lag+1)]\n",
        "\tcolumns.append(df)\n",
        "\tdf = concat(columns, axis=1)\n",
        "\tdf.fillna(0, inplace=True)\n",
        "\treturn df\n",
        "\n",
        "# create a differenced series\n",
        "def difference(dataset, interval=1):\n",
        "\tdiff = list()\n",
        "\tfor i in range(interval, len(dataset)):\n",
        "\t\tvalue = dataset[i] - dataset[i - interval]\n",
        "\t\tdiff.append(value)\n",
        "\treturn Series(diff)\n",
        "\n",
        "# invert differenced value\n",
        "def inverse_difference(history, yhat, interval=1):\n",
        "\treturn yhat + history[-interval]\n",
        "\n",
        "# scale train and test data to [-1, 1]\n",
        "def scale(train, test):\n",
        "\t# fit scaler\n",
        "\tscaler = MinMaxScaler(feature_range=(-1, 1))\n",
        "\tscaler = scaler.fit(train)\n",
        "\t# transform train\n",
        "\ttrain = train.reshape(train.shape[0], train.shape[1])\n",
        "\ttrain_scaled = scaler.transform(train)\n",
        "\t# transform test\n",
        "\ttest = test.reshape(test.shape[0], test.shape[1])\n",
        "\ttest_scaled = scaler.transform(test)\n",
        "\treturn scaler, train_scaled, test_scaled\n",
        "\n",
        "# inverse scaling for a forecasted value\n",
        "def invert_scale(scaler, X, value):\n",
        "\tnew_row = [x for x in X] + [value]\n",
        "\tarray = numpy.array(new_row)\n",
        "\tarray = array.reshape(1, len(array))\n",
        "\tinverted = scaler.inverse_transform(array)\n",
        "\treturn inverted[0, -1]\n",
        "\n",
        "# fit an LSTM network to training data\n",
        "def fit_lstm(train, batch_size, nb_epoch, neurons):\n",
        "  X, y = train[:, 0:-1], train[:, -1]\n",
        "  X = X.reshape(X.shape[0], 1, X.shape[1])\n",
        "  \n",
        "  model = Sequential()\n",
        "  model.add(LSTM(neurons, batch_input_shape=(batch_size, X.shape[1], X.shape[2]), stateful=True))\n",
        "  model.add(Dense(1))\n",
        "  model.compile(loss='mean_squared_error', optimizer='adam')\n",
        "\n",
        "  # simple early stopping\n",
        "  es = EarlyStopping(monitor='val_loss', mode='min', patience=10, verbose= 1)\n",
        "  mc = ModelCheckpoint('best_model.h5', monitor='val_loss', mode='min', verbose=1)\n",
        "  \n",
        "  model.fit(X, y, epochs=nb_epoch, batch_size=batch_size, verbose=1, shuffle=False, callbacks=[es, mc], validation_split=0.3)\n",
        "  saved_model = load_model('best_model.h5')\n",
        "  \n",
        "  return saved_model\n",
        "  \n",
        "# make a one-step forecast\n",
        "def forecast_lstm(model, batch_size, X):\n",
        "\tX = X.reshape(1, 1, len(X))\n",
        "\tyhat = model.predict(X, batch_size=batch_size)\n",
        "\treturn yhat[0,0]\n",
        "\n",
        "# load dataset\n",
        "cwd = pd.read_excel('final.xlsx')\n",
        "\n",
        "series = cwd['Temperature']\n",
        "\n",
        "# transform data to be stationary\n",
        "raw_values = series.values\n",
        "diff_values = difference(raw_values, 1)\n",
        "\n",
        "# transform data to be supervised learning\n",
        "supervised = timeseries_to_supervised(diff_values, 1)\n",
        "supervised_values = supervised.values\n",
        "\n",
        "# Split data into training (80%) and test (20%)\n",
        "nrow = round(0.7*series.shape[0])\n",
        "train, test = supervised_values[0:nrow], supervised_values[(nrow+1):]\n",
        "\n",
        "\n",
        "# transform the scale of the data\n",
        "scaler, train_scaled, test_scaled = scale(train, test)\n",
        "\n",
        "# fit the model\n",
        "lstm_model = fit_lstm(train_scaled, 1, 15, 70303)\n",
        "# forecast the entire training dataset to build up state for forecasting\n",
        "train_reshaped = train_scaled[:, 0].reshape(len(train_scaled), 1, 1)\n",
        "lstm_model.predict(train_reshaped, batch_size=1)\n",
        "\n",
        "# evaluate the model\n",
        "X, y = train_scaled[:, 0:-1], train_scaled[:, -1]\n",
        "trainX = X.reshape(X.shape[0], 1, X.shape[1])\n",
        "trainy = y \n",
        "\n",
        "train_pred = lstm_model.predict(trainX, batch_size=1)\n",
        "train_mse = mean_squared_error(trainy, train_pred)\n",
        "\n",
        "X, y = test_scaled[:, 0:-1], test_scaled[:, -1]\n",
        "testX = X.reshape(X.shape[0], 1, X.shape[1])\n",
        "testy = y\n",
        "\n",
        "test_pred = lstm_model.predict(testX, batch_size=1)\n",
        "test_mse = mean_squared_error(testy, test_pred)\n",
        "\n",
        "print('Train: %.3f, Test: %.3f' % (train_mse, test_mse))\n",
        "\n",
        "# walk-forward validation on the test data\n",
        "predictions = list()\n",
        "for i in range(len(test_scaled)):\n",
        "\t# make one-step forecast\n",
        "\tX, y = test_scaled[i, 0:-1], test_scaled[i, -1]\n",
        "\tyhat = forecast_lstm(lstm_model, 1, X)\n",
        "\t# invert scaling\n",
        "\tyhat = invert_scale(scaler, X, yhat)\n",
        "\t# invert differencing\n",
        "\tyhat = inverse_difference(raw_values, yhat, len(test_scaled)+1-i)\n",
        "\t# store forecast\n",
        "\tpredictions.append(yhat)\n",
        "\texpected = raw_values[len(train) + i + 1]\n",
        "#  print('Month=%d, Predicted=%f, Expected=%f' % (i+1, yhat, expected))\n",
        "\n",
        "# report performance\n",
        "rmse = sqrt(mean_squared_error(raw_values[(nrow+2):], predictions))\n",
        "print('Test RMSE: %.3f' % rmse)\n",
        "# line plot of observed vs predicted\n",
        "pyplot.figure(figsize=(20,12))\n",
        "pyplot.plot(raw_values[(nrow+1):])\n",
        "pyplot.plot(predictions)\n",
        "pyplot.show()\n",
        "\n",
        "from sklearn.metrics import r2_score\n",
        "rscore = sqrt(r2_score(raw_values[(nrow+2):], predictions))\n",
        "print('Test R2: %.3f' % rscore)"
      ],
      "execution_count": null,
      "outputs": [
        {
          "output_type": "stream",
          "text": [
            "/usr/local/lib/python3.7/dist-packages/ipykernel_launcher.py:10: FutureWarning: The pandas.datetime class is deprecated and will be removed from pandas in a future version. Import from datetime module instead.\n",
            "  # Remove the CWD from sys.path while we load stuff.\n"
          ],
          "name": "stderr"
        }
      ]
    },
    {
      "cell_type": "code",
      "metadata": {
        "id": "9TNDia_Frw3D",
        "colab": {
          "base_uri": "https://localhost:8080/"
        },
        "outputId": "9eaae6c0-fd15-440c-d931-22b6c149e648"
      },
      "source": [
        "\n",
        "\n",
        "import pandas as pd\n",
        "\n",
        "\n",
        "from pandas import DataFrame\n",
        "from pandas import Series\n",
        "from pandas import concat\n",
        "from pandas import read_csv\n",
        "from pandas import datetime\n",
        "from sklearn.metrics import mean_squared_error\n",
        "from sklearn.metrics import r2_score\n",
        "from sklearn.preprocessing import MinMaxScaler\n",
        "from keras.models import Sequential\n",
        "from keras.layers import Dense\n",
        "from keras.layers import LSTM\n",
        "from keras.layers import GRU\n",
        "from math import sqrt\n",
        "from matplotlib import pyplot\n",
        "import numpy\n",
        "\n",
        "from keras.callbacks import EarlyStopping\n",
        "from keras.callbacks import ModelCheckpoint\n",
        "from keras.models import load_model\n",
        "\n",
        "\n",
        "\n",
        "# date-time parsing function for loading the dataset\n",
        "def parser(x):\n",
        "\treturn datetime.strptime('190'+x, '%Y-%m')\n",
        "\n",
        "# frame a sequence as a supervised learning problem\n",
        "def timeseries_to_supervised(data, lag=1):\n",
        "\tdf = DataFrame(data)\n",
        "\tcolumns = [df.shift(i) for i in range(1, lag+1)]\n",
        "\tcolumns.append(df)\n",
        "\tdf = concat(columns, axis=1)\n",
        "\tdf.fillna(0, inplace=True)\n",
        "\treturn df\n",
        "\n",
        "# create a differenced series\n",
        "def difference(dataset, interval=1):\n",
        "\tdiff = list()\n",
        "\tfor i in range(interval, len(dataset)):\n",
        "\t\tvalue = dataset[i] - dataset[i - interval]\n",
        "\t\tdiff.append(value)\n",
        "\treturn Series(diff)\n",
        "\n",
        "# invert differenced value\n",
        "def inverse_difference(history, yhat, interval=1):\n",
        "\treturn yhat + history[-interval]\n",
        "\n",
        "# scale train and test data to [-1, 1]\n",
        "def scale(train, test):\n",
        "\t# fit scaler\n",
        "\tscaler = MinMaxScaler(feature_range=(-1, 1))\n",
        "\tscaler = scaler.fit(train)\n",
        "\t# transform train\n",
        "\ttrain = train.reshape(train.shape[0], train.shape[1])\n",
        "\ttrain_scaled = scaler.transform(train)\n",
        "\t# transform test\n",
        "\ttest = test.reshape(test.shape[0], test.shape[1])\n",
        "\ttest_scaled = scaler.transform(test)\n",
        "\treturn scaler, train_scaled, test_scaled\n",
        "\n",
        "# inverse scaling for a forecasted value\n",
        "def invert_scale(scaler, X, value):\n",
        "\tnew_row = [x for x in X] + [value]\n",
        "\tarray = numpy.array(new_row)\n",
        "\tarray = array.reshape(1, len(array))\n",
        "\tinverted = scaler.inverse_transform(array)\n",
        "\treturn inverted[0, -1]\n",
        "\n",
        "# fit an LSTM network to training data\n",
        "def fit_lstm(train, batch_size, nb_epoch, neurons):\n",
        "  X, y = train[:, 0:-1], train[:, -1]\n",
        "  X = X.reshape(X.shape[0], 1, X.shape[1])\n",
        "  \n",
        "  model = Sequential()\n",
        "  model.add(LSTM(neurons, batch_input_shape=(batch_size, X.shape[1], X.shape[2]), stateful=True))\n",
        "  model.add(Dense(1))\n",
        "  model.compile(loss='mean_squared_error', optimizer='adam')\n",
        "\n",
        "  # simple early stopping\n",
        "  es = EarlyStopping(monitor='val_loss', mode='min', patience=10, verbose= 1)\n",
        "  mc = ModelCheckpoint('best_model.h5', monitor='val_loss', mode='min', verbose=1)\n",
        "  \n",
        "  model.fit(X, y, epochs=nb_epoch, batch_size=batch_size, verbose=1, shuffle=False, callbacks=[es, mc], validation_split=0.3)\n",
        "  saved_model = load_model('best_model.h5')\n",
        "  \n",
        "  return saved_model\n",
        "  \n",
        "# make a one-step forecast\n",
        "def forecast_lstm(model, batch_size, X):\n",
        "\tX = X.reshape(1, 1, len(X))\n",
        "\tyhat = model.predict(X, batch_size=batch_size)\n",
        "\treturn yhat[0,0]\n",
        "\n",
        "# load dataset\n",
        "cwd = pd.read_excel('final.xlsx')\n",
        "\n",
        "series = cwd['Temperature']\n",
        "\n",
        "# transform data to be stationary\n",
        "raw_values = series.values\n",
        "diff_values = difference(raw_values, 1)\n",
        "\n",
        "# transform data to be supervised learning\n",
        "supervised = timeseries_to_supervised(diff_values, 1)\n",
        "supervised_values = supervised.values\n",
        "\n",
        "# Split data into training (80%) and test (20%)\n",
        "nrow = round(0.7*series.shape[0])\n",
        "train, test = supervised_values[0:nrow], supervised_values[(nrow+1):]\n",
        "\n",
        "\n",
        "# transform the scale of the data\n",
        "scaler, train_scaled, test_scaled = scale(train, test)\n",
        "# fit the model\n",
        "lstm_model = fit_lstm(train_scaled, 1, 25, 219119)\n",
        "# forecast the entire training dataset to build up state for forecasting\n",
        "train_reshaped = train_scaled[:, 0].reshape(len(train_scaled), 1, 1)\n",
        "lstm_model.predict(train_reshaped, batch_size=1)\n",
        "\n",
        "# evaluate the model\n",
        "X, y = train_scaled[:, 0:-1], train_scaled[:, -1]\n",
        "trainX = X.reshape(X.shape[0], 1, X.shape[1])\n",
        "trainy = y \n",
        "\n",
        "train_pred = lstm_model.predict(trainX, batch_size=1)\n",
        "train_mse = mean_squared_error(trainy, train_pred)\n",
        "\n",
        "X, y = test_scaled[:, 0:-1], test_scaled[:, -1]\n",
        "testX = X.reshape(X.shape[0], 1, X.shape[1])\n",
        "testy = y\n",
        "\n",
        "test_pred = lstm_model.predict(testX, batch_size=1)\n",
        "test_mse = mean_squared_error(testy, test_pred)\n",
        "\n",
        "print('Train: %.3f, Test: %.3f' % (train_mse, test_mse))\n",
        "\n",
        "# walk-forward validation on the test data\n",
        "predictions = list()\n",
        "for i in range(len(test_scaled)):\n",
        "\t# make one-step forecast\n",
        "\tX, y = test_scaled[i, 0:-1], test_scaled[i, -1]\n",
        "\tyhat = forecast_lstm(lstm_model, 1, X)\n",
        "\t# invert scaling\n",
        "\tyhat = invert_scale(scaler, X, yhat)\n",
        "\t# invert differencing\n",
        "\tyhat = inverse_difference(raw_values, yhat, len(test_scaled)+1-i)\n",
        "\t# store forecast\n",
        "\tpredictions.append(yhat)\n",
        "\texpected = raw_values[len(train) + i + 1]\n",
        "#  print('Month=%d, Predicted=%f, Expected=%f' % (i+1, yhat, expected))\n",
        "\n",
        "# report performance\n",
        "rmse = sqrt(mean_squared_error(raw_values[(nrow+2):], predictions))\n",
        "print('Test RMSE: %.3f' % rmse)\n",
        "# line plot of observed vs predicted\n",
        "pyplot.figure(figsize=(20,12))\n",
        "pyplot.plot(raw_values[(nrow+1):])\n",
        "pyplot.plot(predictions)\n",
        "pyplot.show()\n",
        "\n",
        "from sklearn.metrics import r2_score\n",
        "rscore = sqrt(r2_score(raw_values[(nrow+2):], predictions))\n",
        "print('Test R2: %.3f' % rscore)"
      ],
      "execution_count": null,
      "outputs": [
        {
          "output_type": "stream",
          "text": [
            "/usr/local/lib/python3.7/dist-packages/ipykernel_launcher.py:10: FutureWarning: The pandas.datetime class is deprecated and will be removed from pandas in a future version. Import from datetime module instead.\n",
            "  # Remove the CWD from sys.path while we load stuff.\n"
          ],
          "name": "stderr"
        }
      ]
    },
    {
      "cell_type": "code",
      "metadata": {
        "colab": {
          "base_uri": "https://localhost:8080/"
        },
        "id": "iJnJEQ9bsho5",
        "outputId": "5d0703ec-0646-4356-fdcd-b4bc35054cc7"
      },
      "source": [
        "from google.colab import drive\n",
        "drive.mount('/content/gdrive')"
      ],
      "execution_count": null,
      "outputs": [
        {
          "output_type": "stream",
          "text": [
            "Drive already mounted at /content/gdrive; to attempt to forcibly remount, call drive.mount(\"/content/gdrive\", force_remount=True).\n"
          ],
          "name": "stdout"
        }
      ]
    },
    {
      "cell_type": "code",
      "metadata": {
        "colab": {
          "base_uri": "https://localhost:8080/"
        },
        "id": "t5G7V6MMsj0Y",
        "outputId": "9781a2ad-f13a-4f3d-f4c8-c06898ff116f"
      },
      "source": [
        "ls"
      ],
      "execution_count": null,
      "outputs": [
        {
          "output_type": "stream",
          "text": [
            "best_model.h5  final.xlsx  \u001b[0m\u001b[01;34mgdrive\u001b[0m/  \u001b[01;34msample_data\u001b[0m/\n"
          ],
          "name": "stdout"
        }
      ]
    },
    {
      "cell_type": "code",
      "metadata": {
        "colab": {
          "base_uri": "https://localhost:8080/"
        },
        "id": "iiGitkYHsrYx",
        "outputId": "87e5e91e-b612-4459-9690-62deca70231a"
      },
      "source": [
        "%cd gdrive/"
      ],
      "execution_count": null,
      "outputs": [
        {
          "output_type": "stream",
          "text": [
            "/content/gdrive\n"
          ],
          "name": "stdout"
        }
      ]
    },
    {
      "cell_type": "code",
      "metadata": {
        "colab": {
          "base_uri": "https://localhost:8080/"
        },
        "id": "RF0wtam1stGj",
        "outputId": "60dba837-ed7d-4935-d19d-14b2d06940b2"
      },
      "source": [
        "ls"
      ],
      "execution_count": null,
      "outputs": [
        {
          "output_type": "stream",
          "text": [
            "\u001b[0m\u001b[01;34mMyDrive\u001b[0m/  \u001b[01;34mShareddrives\u001b[0m/\n"
          ],
          "name": "stdout"
        }
      ]
    },
    {
      "cell_type": "code",
      "metadata": {
        "colab": {
          "base_uri": "https://localhost:8080/"
        },
        "id": "j659rz_Nsv3F",
        "outputId": "152852c9-4ea0-4bd5-bbd6-ac9455299e71"
      },
      "source": [
        "%cd MyDrive/"
      ],
      "execution_count": null,
      "outputs": [
        {
          "output_type": "stream",
          "text": [
            "/content/gdrive/MyDrive\n"
          ],
          "name": "stdout"
        }
      ]
    },
    {
      "cell_type": "code",
      "metadata": {
        "colab": {
          "base_uri": "https://localhost:8080/"
        },
        "id": "LgTs2KAOszeE",
        "outputId": "a4ed9060-8903-421a-ce31-ec6a2a0d33a8"
      },
      "source": [
        "ls"
      ],
      "execution_count": null,
      "outputs": [
        {
          "output_type": "stream",
          "text": [
            " \u001b[0m\u001b[01;34marchive\u001b[0m/\n",
            "\u001b[01;34m'archive (1)'\u001b[0m/\n",
            " chicago-smart-green-infrastructure-monitoring-data.zip\n",
            "\u001b[01;34m'Colab Notebooks'\u001b[0m/\n",
            "'DATA ANALYSIS DD..with correction.docx'\n",
            " \u001b[01;34mdc-motor-130.snapshot.3\u001b[0m/\n",
            " final.xlsx\n",
            " heatmap_Sensors.png\n",
            "\u001b[01;34m'Hununuw..flash ubuntu'\u001b[0m/\n",
            " ICTE.gdoc\n",
            "'Intelligent systems and robotic.docx'\n",
            " ISR.docx\n",
            " ISR.gdoc\n",
            "'ISR New.docx'\n",
            " ISR.odt\n",
            " kaggle.json\n",
            "'Node-red VS MD(2).xlsx'\n",
            " \u001b[01;34mShareddrives\u001b[0m/\n",
            " smart-green-infrastructure-monitoring-sensors-historical.csv\n",
            " smartH.csv\n",
            " smartN.csv\n",
            " socrata_metadata.json\n",
            " SUI.csv\n",
            "\u001b[01;34m'Untitled folder'\u001b[0m/\n"
          ],
          "name": "stdout"
        }
      ]
    },
    {
      "cell_type": "code",
      "metadata": {
        "id": "elG1OmFfs07Z"
      },
      "source": [
        ""
      ],
      "execution_count": null,
      "outputs": []
    }
  ]
}